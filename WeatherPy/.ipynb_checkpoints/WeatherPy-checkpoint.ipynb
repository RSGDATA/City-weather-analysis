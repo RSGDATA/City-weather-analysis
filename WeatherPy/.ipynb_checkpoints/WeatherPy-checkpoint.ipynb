{
 "cells": [
  {
   "cell_type": "markdown",
   "metadata": {},
   "source": [
    "# WeatherPy\n",
    "----\n",
    "\n",
    "#### Note\n",
    "* Instructions have been included for each segment. You do not have to follow them exactly, but they are included to help you think through the steps."
   ]
  },
  {
   "cell_type": "code",
   "execution_count": 1,
   "metadata": {},
   "outputs": [
    {
     "name": "stdout",
     "output_type": "stream",
     "text": [
      "Requirement already satisfied: citipy in /Users/andrealynnbaker/opt/anaconda3/lib/python3.9/site-packages (0.0.5)\r\n",
      "Requirement already satisfied: kdtree>=0.12 in /Users/andrealynnbaker/opt/anaconda3/lib/python3.9/site-packages (from citipy) (0.16)\r\n"
     ]
    }
   ],
   "source": [
    "!pip install citipy"
   ]
  },
  {
   "cell_type": "code",
   "execution_count": 2,
   "metadata": {},
   "outputs": [
    {
     "name": "stdout",
     "output_type": "stream",
     "text": [
      "Requirement already satisfied: config in /Users/andrealynnbaker/opt/anaconda3/lib/python3.9/site-packages (0.5.1)\r\n"
     ]
    }
   ],
   "source": [
    " !pip install config"
   ]
  },
  {
   "cell_type": "code",
   "execution_count": 3,
   "metadata": {
    "scrolled": true
   },
   "outputs": [],
   "source": [
    "# Dependencies and Setup\n",
    "import matplotlib.pyplot as plt\n",
    "import pandas as pd\n",
    "import numpy as np\n",
    "import requests\n",
    "import time\n",
    "from scipy.stats import linregress\n",
    "import scipy.stats as st\n",
    "\n",
    "\n",
    "\n",
    "# Import API key\n",
    "from api_keys import weather_api_key\n",
    "\n",
    "# Incorporated citipy to determine city based on latitude and longitude\n",
    "from citipy import citipy\n",
    "\n",
    "# Output File (CSV)\n",
    "output_data_file = \"output_data/cities.csv\"\n",
    "\n",
    "# Range of latitudes and longitudes\n",
    "lat_range = (-90, 90)\n",
    "lng_range = (-180, 180)"
   ]
  },
  {
   "cell_type": "markdown",
   "metadata": {},
   "source": [
    "## Generate Cities List"
   ]
  },
  {
   "cell_type": "code",
   "execution_count": null,
   "metadata": {},
   "outputs": [],
   "source": [
    "# List for holding lat_lngs and cities\n",
    "lat_lngs = []\n",
    "cities = []\n",
    "\n",
    "# Create a set of random lat and lng combinations\n",
    "lats = np.random.uniform(lat_range[0], lat_range[1], size=1500)\n",
    "lngs = np.random.uniform(lng_range[0], lng_range[1], size=1500)\n",
    "lat_lngs = zip(lats, lngs)\n",
    "\n",
    "# Identify nearest city for each lat, lng combination\n",
    "for lat_lng in lat_lngs:\n",
    "     \n",
    "    \n",
    "    city = citipy.nearest_city(lat_lng[0], lat_lng[1]).city_name\n",
    "    \n",
    "    # If the city is unique, then add it to a our cities list\n",
    "    if city not in cities:\n",
    "        cities.append(city)\n",
    "\n",
    "# Print the city count to confirm sufficient count\n",
    "len(cities)"
   ]
  },
  {
   "cell_type": "code",
   "execution_count": null,
   "metadata": {},
   "outputs": [],
   "source": []
  },
  {
   "cell_type": "markdown",
   "metadata": {},
   "source": [
    "### Perform API Calls\n",
    "* Perform a weather check on each city using a series of successive API calls.\n",
    "* Include a print log of each city as it'sbeing processed (with the city number and city name).\n"
   ]
  },
  {
   "cell_type": "code",
   "execution_count": 5,
   "metadata": {
    "scrolled": true
   },
   "outputs": [
    {
     "name": "stdout",
     "output_type": "stream",
     "text": [
      "city: sinnamary 1\n",
      "city: dingle 2\n",
      "city: rikitea 3\n",
      "city: mezen 4\n",
      "city: marawi 5\n",
      "city: lebu 6\n",
      "city: san patricio 7\n",
      "city: ribeira grande 8\n",
      "city: hermanus 9\n",
      "not found solsvik\n",
      "city: leh 10\n",
      "city: sechura 11\n",
      "city: nicoya 12\n",
      "city: tazovskiy 13\n",
      "city: lixourion 14\n",
      "city: dikson 15\n",
      "not found wulanhaote\n",
      "city: tasiilaq 16\n",
      "city: suicheng 17\n",
      "city: port alfred 18\n",
      "city: lompoc 19\n",
      "city: chabua 20\n",
      "city: hobart 21\n",
      "city: cape town 22\n",
      "not found tsihombe\n",
      "city: ancud 23\n",
      "city: vaini 24\n",
      "city: manta 25\n",
      "city: albany 26\n",
      "city: nikki 27\n",
      "city: punta arenas 28\n",
      "not found vaitupu\n",
      "city: qaanaaq 29\n",
      "city: bredasdorp 30\n",
      "city: ushuaia 31\n",
      "city: mortka 32\n",
      "city: alekseyevka 33\n",
      "city: winneba 34\n",
      "not found agva\n",
      "city: henties bay 35\n",
      "not found tarudant\n",
      "city: dhidhdhoo 36\n",
      "city: mataura 37\n",
      "city: kirensk 38\n",
      "city: jamestown 39\n",
      "city: chokurdakh 40\n",
      "not found taolanaro\n",
      "city: airai 41\n",
      "not found louisbourg\n",
      "city: rovaniemi 42\n",
      "not found tungkang\n",
      "city: new norfolk 43\n",
      "not found amderma\n",
      "city: thompson 44\n",
      "city: egvekinot 45\n",
      "city: camas 46\n",
      "not found karaul\n",
      "city: cam ranh 47\n",
      "city: williamsport 48\n",
      "city: busselton 49\n",
      "city: nouadhibou 50\n",
      "city: kruisfontein 51\n",
      "city: nikolskoye 52\n",
      "city: priargunsk 53\n",
      "city: port macquarie 54\n",
      "city: puerto ayora 55\n",
      "city: loa janan 56\n",
      "city: chicomuselo 57\n",
      "city: haines junction 58\n",
      "city: geraldton 59\n",
      "city: paldiski 60\n",
      "city: ust-uda 61\n",
      "city: bafra 62\n",
      "city: san francisco 63\n",
      "not found solovetskiy\n",
      "city: torbay 64\n",
      "city: cherskiy 65\n",
      "city: esperance 66\n",
      "city: zhigansk 67\n",
      "city: arman 68\n",
      "city: wajir 69\n",
      "city: kenai 70\n",
      "city: chiang klang 71\n",
      "city: brae 72\n",
      "city: provideniya 73\n",
      "city: avarua 74\n",
      "city: mana 75\n",
      "city: carnarvon 76\n",
      "city: hasaki 77\n",
      "city: banjar 78\n",
      "city: bluff 79\n",
      "city: richards bay 80\n",
      "city: lubango 81\n",
      "city: hithadhoo 82\n",
      "city: itarema 83\n",
      "city: mahajanga 84\n",
      "city: nata 85\n",
      "city: tiksi 86\n",
      "city: bolzano 87\n",
      "city: hilo 88\n",
      "city: georgetown 89\n",
      "city: macamic 90\n",
      "city: east london 91\n",
      "city: tahoua 92\n",
      "city: mahebourg 93\n",
      "city: yershichi 94\n",
      "city: hovd 95\n",
      "city: kahului 96\n",
      "city: luderitz 97\n",
      "city: inuvik 98\n",
      "city: bhadrachalam 99\n",
      "city: souillac 100\n",
      "city: vardo 101\n",
      "city: japura 102\n",
      "city: saint-philippe 103\n",
      "city: hilton head island 104\n",
      "city: sretensk 105\n",
      "not found grand river south east\n",
      "city: codrington 106\n",
      "not found aflu\n",
      "city: oda 107\n",
      "city: pouebo 108\n",
      "city: kiama 109\n",
      "city: ulladulla 110\n",
      "city: port elizabeth 111\n",
      "city: manado 112\n",
      "city: tuktoyaktuk 113\n",
      "city: north battleford 114\n",
      "city: fare 115\n",
      "city: barrow 116\n",
      "city: askarovo 117\n",
      "city: sayyan 118\n",
      "city: sao filipe 119\n",
      "city: guatire 120\n",
      "city: atuona 121\n",
      "city: turukhansk 122\n",
      "city: castro 123\n",
      "city: pevek 124\n",
      "city: bathsheba 125\n",
      "city: upernavik 126\n",
      "city: mar del plata 127\n",
      "city: bima 128\n",
      "city: saskylakh 129\n",
      "city: eenhana 130\n",
      "not found belushya guba\n",
      "city: krasnoselkup 131\n",
      "city: yulara 132\n",
      "city: butaritari 133\n",
      "city: nanortalik 134\n",
      "city: shirvan 135\n",
      "city: amapa 136\n",
      "city: severo-kurilsk 137\n",
      "city: yellowknife 138\n",
      "city: murmashi 139\n",
      "city: pangkalanbuun 140\n",
      "city: arraial do cabo 141\n",
      "city: kapaa 142\n",
      "city: panzhihua 143\n",
      "city: vostok 144\n",
      "city: astana 145\n",
      "city: tomatlan 146\n",
      "city: yar-sale 147\n",
      "city: fortuna 148\n",
      "city: stevens point 149\n",
      "city: tezu 150\n",
      "city: huilong 151\n",
      "not found lolua\n",
      "city: tommot 152\n",
      "city: dargaville 153\n",
      "city: padang 154\n",
      "city: meulaboh 155\n",
      "city: bulgan 156\n",
      "city: khatanga 157\n",
      "city: vyartsilya 158\n",
      "city: tubinskiy 159\n",
      "city: broome 160\n",
      "city: teguldet 161\n",
      "city: mercedes 162\n",
      "not found crab hill\n",
      "city: moerai 163\n",
      "city: izumo 164\n",
      "city: nushki 165\n",
      "city: tortosa 166\n",
      "city: behshahr 167\n",
      "city: faanui 168\n",
      "city: constitucion 169\n",
      "city: beringovskiy 170\n",
      "city: ust-kuyga 171\n",
      "city: touros 172\n",
      "city: kudahuvadhoo 173\n",
      "city: bowmore 174\n",
      "city: tashla 175\n",
      "city: hami 176\n",
      "city: naron 177\n",
      "city: carberry 178\n",
      "city: naze 179\n",
      "not found saleaula\n",
      "city: craig 180\n",
      "city: kodiak 181\n",
      "city: tymovskoye 182\n",
      "city: klaksvik 183\n",
      "city: bambous virieux 184\n",
      "city: altamont 185\n",
      "city: trinidad 186\n",
      "city: muravlenko 187\n",
      "city: matadi 188\n",
      "city: mitsamiouli 189\n",
      "not found puerto pinasco\n",
      "city: amalapuram 190\n",
      "city: hay river 191\n",
      "city: marathon 192\n",
      "city: alice springs 193\n",
      "city: venustiano carranza 194\n",
      "city: makakilo city 195\n",
      "city: cidreira 196\n",
      "city: naantali 197\n",
      "not found tumannyy\n",
      "city: nador 198\n",
      "city: nuuk 199\n",
      "city: srednekolymsk 200\n",
      "city: taraza 201\n",
      "city: isla mujeres 202\n",
      "not found umzimvubu\n",
      "city: dwarka 203\n",
      "city: katsuura 204\n",
      "city: isangel 205\n",
      "city: pitimbu 206\n",
      "city: namibe 207\n",
      "city: gizo 208\n",
      "city: hit 209\n",
      "city: vikhorevka 210\n",
      "city: vestmanna 211\n",
      "not found mauswagon\n",
      "city: ribas do rio pardo 212\n",
      "not found illoqqortoormiut\n",
      "city: san cristobal 213\n",
      "city: ust-nera 214\n",
      "city: sobolevo 215\n",
      "city: ouegoa 216\n",
      "city: wexford 217\n",
      "city: mangai 218\n",
      "city: hongjiang 219\n",
      "not found sataua\n",
      "city: pierre 220\n",
      "city: monte escobedo 221\n",
      "city: coquimbo 222\n",
      "city: korla 223\n",
      "city: college 224\n",
      "city: bronnoysund 225\n",
      "city: grindavik 226\n",
      "city: tuatapere 227\n",
      "city: port blair 228\n",
      "city: hokitika 229\n",
      "city: flinders 230\n",
      "city: antofagasta 231\n",
      "city: dunda 232\n",
      "city: nome 233\n",
      "city: myrtle beach 234\n",
      "city: jacareacanga 235\n",
      "city: aklavik 236\n",
      "city: laguna 237\n",
      "not found attawapiskat\n",
      "city: springdale 238\n",
      "city: bulanash 239\n",
      "city: riacho de santana 240\n",
      "city: mogadishu 241\n",
      "city: trenggalek 242\n",
      "city: boa vista 243\n",
      "city: celestun 244\n",
      "not found nizhneyansk\n",
      "city: la libertad 245\n",
      "city: morgan city 246\n",
      "city: birao 247\n",
      "city: general roca 248\n",
      "city: beltinci 249\n",
      "city: pucara 250\n",
      "city: pemangkat 251\n",
      "city: talcahuano 252\n",
      "city: ojinaga 253\n",
      "city: pisco 254\n",
      "city: barda 255\n",
      "city: vila franca do campo 256\n",
      "city: cedar rapids 257\n",
      "city: sangueya 258\n",
      "city: ahipara 259\n",
      "city: big rapids 260\n",
      "city: los llanos de aridane 261\n",
      "city: inverness 262\n",
      "city: karlskoga 263\n",
      "city: goundam 264\n",
      "city: abu kamal 265\n",
      "city: taga 266\n",
      "city: ulety 267\n",
      "city: miyako 268\n",
      "city: waingapu 269\n",
      "city: gijon 270\n",
      "city: dunedin 271\n",
      "city: yelizovo 272\n",
      "not found sentyabrskiy\n",
      "city: bayji 273\n",
      "city: siguiri 274\n",
      "city: parintins 275\n",
      "city: praia da vitoria 276\n",
      "city: ayan 277\n",
      "city: cabo san lucas 278\n",
      "city: arrecife 279\n",
      "not found hongan\n",
      "city: bonavista 280\n",
      "city: tando jam 281\n",
      "city: margate 282\n",
      "city: caravelas 283\n",
      "city: torrevieja 284\n",
      "city: yanam 285\n",
      "city: chegutu 286\n",
      "city: pangai 287\n",
      "city: guerrero negro 288\n",
      "city: lagoa 289\n",
      "city: acajutla 290\n",
      "city: rivne 291\n",
      "city: marsa matruh 292\n",
      "city: lake havasu city 293\n",
      "city: sidney 294\n",
      "city: nikolayevka 295\n",
      "not found tabiauea\n",
      "city: avera 296\n",
      "not found mys shmidta\n",
      "city: lebedinyy 297\n",
      "city: bilma 298\n",
      "city: joshimath 299\n",
      "city: victoria 300\n",
      "city: damietta 301\n",
      "not found samusu\n",
      "city: eden 302\n",
      "city: port hardy 303\n",
      "city: savannah bight 304\n",
      "city: oranjemund 305\n",
      "city: tessalit 306\n",
      "city: sitka 307\n",
      "city: walvis bay 308\n",
      "city: karratha 309\n",
      "city: bundaberg 310\n",
      "city: pochutla 311\n",
      "city: conselheiro lafaiete 312\n",
      "not found ruatoria\n",
      "city: gigmoto 313\n",
      "city: gazanjyk 314\n",
      "city: mareeba 315\n",
      "city: salinopolis 316\n",
      "city: eydhafushi 317\n",
      "city: borborema 318\n",
      "city: katobu 319\n",
      "city: thinadhoo 320\n",
      "city: yako 321\n",
      "city: sangar 322\n",
      "city: yarada 323\n",
      "city: campbell 324\n",
      "city: port hedland 325\n",
      "not found cumaribo\n",
      "city: karimpur 326\n",
      "city: zyryanka 327\n",
      "not found bolungarvik\n",
      "city: shahpur 328\n",
      "city: praya 329\n",
      "city: bousso 330\n",
      "city: cap-aux-meules 331\n",
      "city: neiafu 332\n",
      "city: yamada 333\n",
      "city: vuktyl 334\n",
      "city: saint anthony 335\n",
      "city: zalegoshch 336\n",
      "not found ondorhaan\n",
      "city: san andres 337\n",
      "city: sorland 338\n",
      "city: berlevag 339\n",
      "city: saue 340\n",
      "city: nahariyya 341\n",
      "not found toliary\n",
      "city: makkaveyevo 342\n",
      "city: shenkursk 343\n",
      "city: altar 344\n",
      "city: itacoatiara 345\n",
      "city: roald 346\n",
      "city: ambulu 347\n",
      "city: halacho 348\n",
      "city: kaitangata 349\n",
      "not found alotau\n",
      "city: faya 350\n",
      "city: newton 351\n",
      "city: fort nelson 352\n",
      "city: jumla 353\n",
      "city: vila velha 354\n",
      "city: ocean city 355\n",
      "city: shache 356\n",
      "city: zhezkazgan 357\n",
      "city: sisophon 358\n",
      "city: ishigaki 359\n",
      "city: bubaque 360\n",
      "city: tonota 361\n",
      "city: zhangye 362\n",
      "city: romanovka 363\n",
      "city: bud 364\n",
      "city: acarau 365\n",
      "city: trincomalee 366\n",
      "city: viedma 367\n",
      "city: khasan 368\n",
      "city: ponta do sol 369\n",
      "city: columbus 370\n",
      "city: boyolangu 371\n",
      "not found barentsburg\n",
      "city: toora-khem 372\n",
      "city: port shepstone 373\n",
      "city: jacqueville 374\n",
      "city: nadym 375\n",
      "city: bontang 376\n",
      "city: longyearbyen 377\n",
      "city: saldanha 378\n",
      "city: noormarkku 379\n",
      "city: fort saint james 380\n",
      "city: stettler 381\n",
      "city: sudak 382\n",
      "city: alofi 383\n",
      "city: tamandare 384\n",
      "city: swan hill 385\n",
      "city: davao 386\n",
      "city: serebryansk 387\n",
      "city: oslo 388\n",
      "city: beidao 389\n",
      "city: ambanja 390\n",
      "city: bengkulu 391\n"
     ]
    },
    {
     "name": "stdout",
     "output_type": "stream",
     "text": [
      "city: samarai 392\n",
      "city: herat 393\n",
      "city: rassvet 394\n",
      "city: hobyo 395\n",
      "city: honningsvag 396\n",
      "city: tiznit 397\n",
      "city: chekhov 398\n",
      "city: salta 399\n",
      "city: talnakh 400\n",
      "city: saint-jerome 401\n",
      "city: traverse city 402\n",
      "city: ljungby 403\n",
      "not found miranorte\n",
      "city: ponferrada 404\n",
      "city: hirara 405\n",
      "city: clyde river 406\n",
      "city: kashima 407\n",
      "city: pospelikha 408\n",
      "city: mabaruma 409\n",
      "city: masuguru 410\n",
      "city: leningradskiy 411\n",
      "city: baherden 412\n",
      "city: cabedelo 413\n",
      "city: mantua 414\n",
      "city: saint-pierre 415\n",
      "city: plettenberg bay 416\n",
      "city: carutapera 417\n",
      "city: vilhena 418\n",
      "city: paso de los toros 419\n",
      "city: nhulunbuy 420\n",
      "city: jeremie 421\n",
      "city: sanmenxia 422\n",
      "city: gat 423\n",
      "city: lerwick 424\n",
      "not found kadykchan\n",
      "city: ekhabi 425\n",
      "city: stepnyak 426\n",
      "city: saint george 427\n",
      "city: hualmay 428\n",
      "city: lavrentiya 429\n",
      "city: comodoro rivadavia 430\n",
      "city: ostrovnoy 431\n",
      "city: isa khel 432\n",
      "city: sosua 433\n",
      "city: aktash 434\n",
      "city: camocim 435\n",
      "city: marsh harbour 436\n",
      "city: norman wells 437\n",
      "city: garissa 438\n",
      "city: bethel 439\n",
      "city: springbok 440\n",
      "city: arroyo 441\n",
      "city: moses lake 442\n",
      "city: kikwit 443\n",
      "city: santiago de cuba 444\n",
      "city: ucluelet 445\n",
      "city: batemans bay 446\n",
      "city: legnago 447\n",
      "city: tambovka 448\n",
      "city: whithorn 449\n",
      "city: iqaluit 450\n",
      "city: rundu 451\n",
      "not found achisay\n",
      "city: hazorasp 452\n",
      "not found mrirt\n",
      "city: kungurtug 453\n",
      "city: nizhniy chir 454\n",
      "city: doka 455\n",
      "city: kuala terengganu 456\n",
      "city: abu samrah 457\n",
      "city: san policarpo 458\n",
      "city: sitamau 459\n",
      "city: vanimo 460\n",
      "city: moose factory 461\n",
      "city: osoyoos 462\n",
      "city: lang son 463\n",
      "city: sabancuy 464\n",
      "city: ilulissat 465\n",
      "city: rawah 466\n",
      "not found tlyarota\n",
      "city: jiayuguan 467\n",
      "not found kachikau\n",
      "city: oktyabrskiy 468\n",
      "city: portland 469\n",
      "city: zapolyarnyy 470\n",
      "not found stekolnyy\n",
      "city: dubrovka 471\n",
      "city: praia 472\n",
      "city: macklin 473\n",
      "city: ferrol 474\n",
      "not found sahrak\n",
      "city: mount gambier 475\n",
      "city: palmer 476\n",
      "city: ponta delgada 477\n",
      "city: northam 478\n",
      "city: sikeston 479\n",
      "city: baiyin 480\n",
      "city: monteagudo 481\n",
      "city: quatre cocos 482\n",
      "city: marzuq 483\n",
      "city: mago 484\n",
      "city: shingu 485\n",
      "city: gonzalez 486\n",
      "city: huarmey 487\n",
      "city: milan 488\n",
      "city: yatou 489\n",
      "city: zambezi 490\n",
      "city: dudinka 491\n",
      "city: palora 492\n",
      "city: komsomolskiy 493\n",
      "city: pascagoula 494\n",
      "not found palabuhanratu\n",
      "city: port lincoln 495\n",
      "city: birjand 496\n",
      "city: los banos 497\n",
      "city: satinka 498\n",
      "city: neftcala 499\n",
      "city: constantine 500\n",
      "city: tambura 501\n",
      "city: lata 502\n",
      "city: thornbury 503\n",
      "city: hambantota 504\n",
      "city: kaduqli 505\n",
      "city: lafia 506\n",
      "city: farap 507\n",
      "city: bako 508\n",
      "city: harper 509\n",
      "city: alihe 510\n",
      "city: kyra 511\n",
      "city: koslan 512\n",
      "city: kavieng 513\n",
      "city: dom pedrito 514\n",
      "city: pulawy 515\n",
      "city: eyl 516\n",
      "city: scottsbluff 517\n",
      "not found marcona\n",
      "city: capreol 518\n",
      "city: sisimiut 519\n",
      "not found skagastrond\n",
      "city: puerto escondido 520\n",
      "city: kuliyapitiya 521\n",
      "city: kysyl-syr 522\n",
      "not found phan rang\n",
      "city: dicabisagan 523\n",
      "city: elban 524\n",
      "city: alamo 525\n",
      "city: strathmore 526\n",
      "city: belomorsk 527\n",
      "city: ramanuj ganj 528\n",
      "city: nara 529\n",
      "city: puerto baquerizo moreno 530\n",
      "city: camacha 531\n",
      "city: axim 532\n",
      "city: rumford 533\n",
      "city: ust-ilimsk 534\n",
      "city: mayor pablo lagerenza 535\n",
      "city: fallon 536\n",
      "city: brigantine 537\n",
      "city: rio brilhante 538\n",
      "city: evensk 539\n",
      "city: barentu 540\n",
      "city: invermere 541\n",
      "city: mbeya 542\n",
      "city: ust-tsilma 543\n",
      "city: algarrobo 544\n",
      "not found handwara\n",
      "city: lakes entrance 545\n",
      "city: rach gia 546\n",
      "city: petropavlovsk-kamchatskiy 547\n",
      "city: klyuchi 548\n",
      "city: bandiagara 549\n",
      "city: ambilobe 550\n",
      "city: ibatiba 551\n",
      "city: kargil 552\n",
      "city: rio negro 553\n",
      "city: chuy 554\n",
      "city: arlit 555\n",
      "not found sedelnikovo\n",
      "city: jilib 556\n",
      "city: poya 557\n",
      "not found meyungs\n",
      "city: cayenne 558\n",
      "city: qalyub 559\n",
      "city: adre 560\n",
      "city: sabang 561\n",
      "city: hlobyne 562\n",
      "not found zhanatas\n",
      "city: nisia floresta 563\n",
      "not found skalistyy\n",
      "city: el transito 564\n"
     ]
    }
   ],
   "source": [
    "\n",
    "url = \"http://api.openweathermap.org/data/2.5/weather?\"\n",
    "#units = \"imperial\"\n",
    "# query_url = f\"{url}appid={weather_api_key }&q={city}&units={units}\"\n",
    "# #\n",
    "# # Get weather data\n",
    "# weather_response = requests.get(query_url)\n",
    "#weather_json = weather_response.json()\n",
    "\n",
    "# print(weather_json)\n",
    "\n",
    "lat = []\n",
    "lon = []\n",
    "temperatures = []\n",
    "wind_speed = []\n",
    "clouds = []\n",
    "humidity = []\n",
    "country = []\n",
    "date = []\n",
    "cities_found = []\n",
    "\n",
    "city_count = 0\n",
    "\n",
    "for city in cities:\n",
    "     \n",
    "   \n",
    "    query_url = url + \"appid=\" + weather_api_key + \"&q=\" + city + \"&units=imperial\"\n",
    "\n",
    "    try:\n",
    "        weather_response = requests.get(query_url)\n",
    "        weather_json = weather_response.json()\n",
    "\n",
    "    \n",
    "        lon.append(weather_json[\"coord\"][\"lon\"])\n",
    "        lat.append(weather_json[\"coord\"][\"lat\"])\n",
    "        \n",
    "        temperatures.append(weather_json[\"main\"][\"temp\"])\n",
    "        wind_speed.append(weather_json[\"wind\"][\"speed\"])\n",
    "        clouds.append(weather_json[\"clouds\"][\"all\"])\n",
    "        humidity.append(weather_json[\"main\"][\"humidity\"])\n",
    "        country.append(weather_json[\"sys\"][\"country\"])\n",
    "        date.append(weather_json[\"dt\"])\n",
    "        cities_found.append(city)\n",
    "        \n",
    "        city_count = city_count + 1\n",
    "        print(\"city: \" + city + \" \" + str(city_count) )\n",
    "    except:\n",
    "        print(\"not found \" + city)\n",
    "    \n",
    "    \n"
   ]
  },
  {
   "cell_type": "code",
   "execution_count": 6,
   "metadata": {},
   "outputs": [
    {
     "data": {
      "text/html": [
       "<div>\n",
       "<style scoped>\n",
       "    .dataframe tbody tr th:only-of-type {\n",
       "        vertical-align: middle;\n",
       "    }\n",
       "\n",
       "    .dataframe tbody tr th {\n",
       "        vertical-align: top;\n",
       "    }\n",
       "\n",
       "    .dataframe thead th {\n",
       "        text-align: right;\n",
       "    }\n",
       "</style>\n",
       "<table border=\"1\" class=\"dataframe\">\n",
       "  <thead>\n",
       "    <tr style=\"text-align: right;\">\n",
       "      <th></th>\n",
       "      <th>City Name</th>\n",
       "      <th>Latitude</th>\n",
       "      <th>Longitude</th>\n",
       "      <th>Temperature</th>\n",
       "      <th>Wind Speed</th>\n",
       "      <th>Cloudiness</th>\n",
       "      <th>Humidity</th>\n",
       "      <th>Country</th>\n",
       "      <th>Date</th>\n",
       "    </tr>\n",
       "  </thead>\n",
       "  <tbody>\n",
       "    <tr>\n",
       "      <th>0</th>\n",
       "      <td>sinnamary</td>\n",
       "      <td>5.3833</td>\n",
       "      <td>-52.9500</td>\n",
       "      <td>80.92</td>\n",
       "      <td>9.48</td>\n",
       "      <td>99</td>\n",
       "      <td>80</td>\n",
       "      <td>GF</td>\n",
       "      <td>1650918158</td>\n",
       "    </tr>\n",
       "    <tr>\n",
       "      <th>1</th>\n",
       "      <td>dingle</td>\n",
       "      <td>10.9995</td>\n",
       "      <td>122.6711</td>\n",
       "      <td>78.01</td>\n",
       "      <td>6.93</td>\n",
       "      <td>48</td>\n",
       "      <td>88</td>\n",
       "      <td>PH</td>\n",
       "      <td>1650918158</td>\n",
       "    </tr>\n",
       "    <tr>\n",
       "      <th>2</th>\n",
       "      <td>rikitea</td>\n",
       "      <td>-23.1203</td>\n",
       "      <td>-134.9692</td>\n",
       "      <td>77.16</td>\n",
       "      <td>15.70</td>\n",
       "      <td>76</td>\n",
       "      <td>72</td>\n",
       "      <td>PF</td>\n",
       "      <td>1650917936</td>\n",
       "    </tr>\n",
       "    <tr>\n",
       "      <th>3</th>\n",
       "      <td>mezen</td>\n",
       "      <td>65.8522</td>\n",
       "      <td>44.2400</td>\n",
       "      <td>33.21</td>\n",
       "      <td>5.01</td>\n",
       "      <td>100</td>\n",
       "      <td>90</td>\n",
       "      <td>RU</td>\n",
       "      <td>1650918159</td>\n",
       "    </tr>\n",
       "    <tr>\n",
       "      <th>4</th>\n",
       "      <td>marawi</td>\n",
       "      <td>7.9986</td>\n",
       "      <td>124.2928</td>\n",
       "      <td>69.93</td>\n",
       "      <td>2.98</td>\n",
       "      <td>100</td>\n",
       "      <td>91</td>\n",
       "      <td>PH</td>\n",
       "      <td>1650918159</td>\n",
       "    </tr>\n",
       "    <tr>\n",
       "      <th>...</th>\n",
       "      <td>...</td>\n",
       "      <td>...</td>\n",
       "      <td>...</td>\n",
       "      <td>...</td>\n",
       "      <td>...</td>\n",
       "      <td>...</td>\n",
       "      <td>...</td>\n",
       "      <td>...</td>\n",
       "      <td>...</td>\n",
       "    </tr>\n",
       "    <tr>\n",
       "      <th>559</th>\n",
       "      <td>adre</td>\n",
       "      <td>13.4667</td>\n",
       "      <td>22.2000</td>\n",
       "      <td>85.53</td>\n",
       "      <td>8.63</td>\n",
       "      <td>100</td>\n",
       "      <td>29</td>\n",
       "      <td>TD</td>\n",
       "      <td>1650918381</td>\n",
       "    </tr>\n",
       "    <tr>\n",
       "      <th>560</th>\n",
       "      <td>sabang</td>\n",
       "      <td>5.8933</td>\n",
       "      <td>95.3214</td>\n",
       "      <td>82.27</td>\n",
       "      <td>18.28</td>\n",
       "      <td>100</td>\n",
       "      <td>78</td>\n",
       "      <td>ID</td>\n",
       "      <td>1650918346</td>\n",
       "    </tr>\n",
       "    <tr>\n",
       "      <th>561</th>\n",
       "      <td>hlobyne</td>\n",
       "      <td>49.3878</td>\n",
       "      <td>33.2596</td>\n",
       "      <td>60.10</td>\n",
       "      <td>11.97</td>\n",
       "      <td>100</td>\n",
       "      <td>68</td>\n",
       "      <td>UA</td>\n",
       "      <td>1650918382</td>\n",
       "    </tr>\n",
       "    <tr>\n",
       "      <th>562</th>\n",
       "      <td>nisia floresta</td>\n",
       "      <td>-6.0911</td>\n",
       "      <td>-35.2086</td>\n",
       "      <td>84.58</td>\n",
       "      <td>9.60</td>\n",
       "      <td>35</td>\n",
       "      <td>81</td>\n",
       "      <td>BR</td>\n",
       "      <td>1650918383</td>\n",
       "    </tr>\n",
       "    <tr>\n",
       "      <th>563</th>\n",
       "      <td>el transito</td>\n",
       "      <td>13.3500</td>\n",
       "      <td>-88.3500</td>\n",
       "      <td>92.86</td>\n",
       "      <td>6.46</td>\n",
       "      <td>63</td>\n",
       "      <td>51</td>\n",
       "      <td>SV</td>\n",
       "      <td>1650918383</td>\n",
       "    </tr>\n",
       "  </tbody>\n",
       "</table>\n",
       "<p>564 rows × 9 columns</p>\n",
       "</div>"
      ],
      "text/plain": [
       "          City Name  Latitude  Longitude  Temperature  Wind Speed  Cloudiness  \\\n",
       "0         sinnamary    5.3833   -52.9500        80.92        9.48          99   \n",
       "1            dingle   10.9995   122.6711        78.01        6.93          48   \n",
       "2           rikitea  -23.1203  -134.9692        77.16       15.70          76   \n",
       "3             mezen   65.8522    44.2400        33.21        5.01         100   \n",
       "4            marawi    7.9986   124.2928        69.93        2.98         100   \n",
       "..              ...       ...        ...          ...         ...         ...   \n",
       "559            adre   13.4667    22.2000        85.53        8.63         100   \n",
       "560          sabang    5.8933    95.3214        82.27       18.28         100   \n",
       "561         hlobyne   49.3878    33.2596        60.10       11.97         100   \n",
       "562  nisia floresta   -6.0911   -35.2086        84.58        9.60          35   \n",
       "563     el transito   13.3500   -88.3500        92.86        6.46          63   \n",
       "\n",
       "     Humidity Country        Date  \n",
       "0          80      GF  1650918158  \n",
       "1          88      PH  1650918158  \n",
       "2          72      PF  1650917936  \n",
       "3          90      RU  1650918159  \n",
       "4          91      PH  1650918159  \n",
       "..        ...     ...         ...  \n",
       "559        29      TD  1650918381  \n",
       "560        78      ID  1650918346  \n",
       "561        68      UA  1650918382  \n",
       "562        81      BR  1650918383  \n",
       "563        51      SV  1650918383  \n",
       "\n",
       "[564 rows x 9 columns]"
      ]
     },
     "execution_count": 6,
     "metadata": {},
     "output_type": "execute_result"
    }
   ],
   "source": [
    "city_df = pd.DataFrame({\n",
    "                        \"City Name\": cities_found,\n",
    "                        \"Latitude\": lat,\n",
    "                        \"Longitude\": lon,\n",
    "                        \"Temperature\": temperatures,  \n",
    "                        \"Wind Speed\": wind_speed,\n",
    "                        \"Cloudiness\": clouds,\n",
    "                        \"Humidity\": humidity,\n",
    "                        \"Country\": country,\n",
    "    \n",
    "                        \"Date\": date\n",
    "                        \n",
    "                        \n",
    "                        })    \n",
    "\n",
    "\n",
    "    \n",
    "city_df\n"
   ]
  },
  {
   "cell_type": "markdown",
   "metadata": {},
   "source": [
    "### Convert Raw Data to DataFrame\n",
    "* Export the city data into a .csv.\n",
    "* Display the DataFrame"
   ]
  },
  {
   "cell_type": "code",
   "execution_count": 28,
   "metadata": {},
   "outputs": [],
   "source": [
    "# city_data_to_load = \"cities.csv\"\n",
    "\n",
    "# city_data = pd.read_csv(city_data_to_load)\n"
   ]
  },
  {
   "cell_type": "code",
   "execution_count": 30,
   "metadata": {},
   "outputs": [],
   "source": [
    "city_df.to_csv(r'City.csv', index = False)\n",
    "\n",
    "\n",
    "\n",
    "\n"
   ]
  },
  {
   "cell_type": "markdown",
   "metadata": {},
   "source": [
    "## Inspect the data and remove the cities where the humidity > 100%.\n",
    "----\n",
    "Skip this step if there are no cities that have humidity > 100%. "
   ]
  },
  {
   "cell_type": "code",
   "execution_count": 10,
   "metadata": {},
   "outputs": [
    {
     "data": {
      "text/plain": [
       "0"
      ]
     },
     "execution_count": 10,
     "metadata": {},
     "output_type": "execute_result"
    }
   ],
   "source": [
    "humidity_count = city_df.loc[city_df[\"Humidity\"]> 100]\n",
    "    \n",
    "(len(humidity_count))    "
   ]
  },
  {
   "cell_type": "code",
   "execution_count": 11,
   "metadata": {},
   "outputs": [],
   "source": [
    "#  Get the indices of cities that have humidity over 100%.\n",
    "# THERE AREN\"T ANY\n"
   ]
  },
  {
   "cell_type": "code",
   "execution_count": 12,
   "metadata": {},
   "outputs": [],
   "source": [
    "# Make a new DataFrame equal to the city data to drop all humidity outliers by index.\n",
    "# Passing \"inplace=False\" will make a copy of the city_data DataFrame, which we call \"clean_city_data\".\n"
   ]
  },
  {
   "cell_type": "code",
   "execution_count": 13,
   "metadata": {},
   "outputs": [
    {
     "data": {
      "text/html": [
       "<div>\n",
       "<style scoped>\n",
       "    .dataframe tbody tr th:only-of-type {\n",
       "        vertical-align: middle;\n",
       "    }\n",
       "\n",
       "    .dataframe tbody tr th {\n",
       "        vertical-align: top;\n",
       "    }\n",
       "\n",
       "    .dataframe thead th {\n",
       "        text-align: right;\n",
       "    }\n",
       "</style>\n",
       "<table border=\"1\" class=\"dataframe\">\n",
       "  <thead>\n",
       "    <tr style=\"text-align: right;\">\n",
       "      <th></th>\n",
       "      <th>City Name</th>\n",
       "      <th>Latitude</th>\n",
       "      <th>Longitude</th>\n",
       "      <th>Temperature</th>\n",
       "      <th>Wind Speed</th>\n",
       "      <th>Cloudiness</th>\n",
       "      <th>Humidity</th>\n",
       "      <th>Country</th>\n",
       "      <th>Date</th>\n",
       "    </tr>\n",
       "  </thead>\n",
       "  <tbody>\n",
       "    <tr>\n",
       "      <th>0</th>\n",
       "      <td>sinnamary</td>\n",
       "      <td>5.3833</td>\n",
       "      <td>-52.9500</td>\n",
       "      <td>80.92</td>\n",
       "      <td>9.48</td>\n",
       "      <td>99</td>\n",
       "      <td>80</td>\n",
       "      <td>GF</td>\n",
       "      <td>1650918158</td>\n",
       "    </tr>\n",
       "    <tr>\n",
       "      <th>1</th>\n",
       "      <td>dingle</td>\n",
       "      <td>10.9995</td>\n",
       "      <td>122.6711</td>\n",
       "      <td>78.01</td>\n",
       "      <td>6.93</td>\n",
       "      <td>48</td>\n",
       "      <td>88</td>\n",
       "      <td>PH</td>\n",
       "      <td>1650918158</td>\n",
       "    </tr>\n",
       "    <tr>\n",
       "      <th>2</th>\n",
       "      <td>rikitea</td>\n",
       "      <td>-23.1203</td>\n",
       "      <td>-134.9692</td>\n",
       "      <td>77.16</td>\n",
       "      <td>15.70</td>\n",
       "      <td>76</td>\n",
       "      <td>72</td>\n",
       "      <td>PF</td>\n",
       "      <td>1650917936</td>\n",
       "    </tr>\n",
       "    <tr>\n",
       "      <th>3</th>\n",
       "      <td>mezen</td>\n",
       "      <td>65.8522</td>\n",
       "      <td>44.2400</td>\n",
       "      <td>33.21</td>\n",
       "      <td>5.01</td>\n",
       "      <td>100</td>\n",
       "      <td>90</td>\n",
       "      <td>RU</td>\n",
       "      <td>1650918159</td>\n",
       "    </tr>\n",
       "    <tr>\n",
       "      <th>4</th>\n",
       "      <td>marawi</td>\n",
       "      <td>7.9986</td>\n",
       "      <td>124.2928</td>\n",
       "      <td>69.93</td>\n",
       "      <td>2.98</td>\n",
       "      <td>100</td>\n",
       "      <td>91</td>\n",
       "      <td>PH</td>\n",
       "      <td>1650918159</td>\n",
       "    </tr>\n",
       "    <tr>\n",
       "      <th>...</th>\n",
       "      <td>...</td>\n",
       "      <td>...</td>\n",
       "      <td>...</td>\n",
       "      <td>...</td>\n",
       "      <td>...</td>\n",
       "      <td>...</td>\n",
       "      <td>...</td>\n",
       "      <td>...</td>\n",
       "      <td>...</td>\n",
       "    </tr>\n",
       "    <tr>\n",
       "      <th>559</th>\n",
       "      <td>adre</td>\n",
       "      <td>13.4667</td>\n",
       "      <td>22.2000</td>\n",
       "      <td>85.53</td>\n",
       "      <td>8.63</td>\n",
       "      <td>100</td>\n",
       "      <td>29</td>\n",
       "      <td>TD</td>\n",
       "      <td>1650918381</td>\n",
       "    </tr>\n",
       "    <tr>\n",
       "      <th>560</th>\n",
       "      <td>sabang</td>\n",
       "      <td>5.8933</td>\n",
       "      <td>95.3214</td>\n",
       "      <td>82.27</td>\n",
       "      <td>18.28</td>\n",
       "      <td>100</td>\n",
       "      <td>78</td>\n",
       "      <td>ID</td>\n",
       "      <td>1650918346</td>\n",
       "    </tr>\n",
       "    <tr>\n",
       "      <th>561</th>\n",
       "      <td>hlobyne</td>\n",
       "      <td>49.3878</td>\n",
       "      <td>33.2596</td>\n",
       "      <td>60.10</td>\n",
       "      <td>11.97</td>\n",
       "      <td>100</td>\n",
       "      <td>68</td>\n",
       "      <td>UA</td>\n",
       "      <td>1650918382</td>\n",
       "    </tr>\n",
       "    <tr>\n",
       "      <th>562</th>\n",
       "      <td>nisia floresta</td>\n",
       "      <td>-6.0911</td>\n",
       "      <td>-35.2086</td>\n",
       "      <td>84.58</td>\n",
       "      <td>9.60</td>\n",
       "      <td>35</td>\n",
       "      <td>81</td>\n",
       "      <td>BR</td>\n",
       "      <td>1650918383</td>\n",
       "    </tr>\n",
       "    <tr>\n",
       "      <th>563</th>\n",
       "      <td>el transito</td>\n",
       "      <td>13.3500</td>\n",
       "      <td>-88.3500</td>\n",
       "      <td>92.86</td>\n",
       "      <td>6.46</td>\n",
       "      <td>63</td>\n",
       "      <td>51</td>\n",
       "      <td>SV</td>\n",
       "      <td>1650918383</td>\n",
       "    </tr>\n",
       "  </tbody>\n",
       "</table>\n",
       "<p>564 rows × 9 columns</p>\n",
       "</div>"
      ],
      "text/plain": [
       "          City Name  Latitude  Longitude  Temperature  Wind Speed  Cloudiness  \\\n",
       "0         sinnamary    5.3833   -52.9500        80.92        9.48          99   \n",
       "1            dingle   10.9995   122.6711        78.01        6.93          48   \n",
       "2           rikitea  -23.1203  -134.9692        77.16       15.70          76   \n",
       "3             mezen   65.8522    44.2400        33.21        5.01         100   \n",
       "4            marawi    7.9986   124.2928        69.93        2.98         100   \n",
       "..              ...       ...        ...          ...         ...         ...   \n",
       "559            adre   13.4667    22.2000        85.53        8.63         100   \n",
       "560          sabang    5.8933    95.3214        82.27       18.28         100   \n",
       "561         hlobyne   49.3878    33.2596        60.10       11.97         100   \n",
       "562  nisia floresta   -6.0911   -35.2086        84.58        9.60          35   \n",
       "563     el transito   13.3500   -88.3500        92.86        6.46          63   \n",
       "\n",
       "     Humidity Country        Date  \n",
       "0          80      GF  1650918158  \n",
       "1          88      PH  1650918158  \n",
       "2          72      PF  1650917936  \n",
       "3          90      RU  1650918159  \n",
       "4          91      PH  1650918159  \n",
       "..        ...     ...         ...  \n",
       "559        29      TD  1650918381  \n",
       "560        78      ID  1650918346  \n",
       "561        68      UA  1650918382  \n",
       "562        81      BR  1650918383  \n",
       "563        51      SV  1650918383  \n",
       "\n",
       "[564 rows x 9 columns]"
      ]
     },
     "execution_count": 13,
     "metadata": {},
     "output_type": "execute_result"
    }
   ],
   "source": [
    "humidity_count = city_df.loc[city_df[\"Humidity\"]<= 100]\n",
    "humidity_count"
   ]
  },
  {
   "cell_type": "markdown",
   "metadata": {},
   "source": [
    "## Plotting the Data\n",
    "* Use proper labeling of the plots using plot titles (including date of analysis) and axes labels.\n",
    "* Save the plotted figures as .pngs."
   ]
  },
  {
   "cell_type": "markdown",
   "metadata": {},
   "source": [
    "## Latitude vs. Temperature Plot"
   ]
  },
  {
   "cell_type": "code",
   "execution_count": 14,
   "metadata": {
    "scrolled": true
   },
   "outputs": [
    {
     "data": {
      "image/png": "[encoded data removed]",
      "text/plain": [
       "<Figure size 432x288 with 1 Axes>"
      ]
     },
     "metadata": {
      "needs_background": "light"
     },
     "output_type": "display_data"
    }
   ],
   "source": [
    "                                 \n",
    "plt.scatter(city_df[\"Latitude\"],city_df[\"Temperature\"])  \n",
    "plt.ylabel('Max Temperature (F)')\n",
    "plt.xlabel('Latitude')\n",
    "plt.title('City Latitude vs. Max Temperature')\n",
    "plt.show()"
   ]
  },
  {
   "cell_type": "markdown",
   "metadata": {},
   "source": [
    "## Latitude vs. Humidity Plot"
   ]
  },
  {
   "cell_type": "code",
   "execution_count": 15,
   "metadata": {},
   "outputs": [
    {
     "data": {
      "image/png": "[encoded data removed]",
      "text/plain": [
       "<Figure size 432x288 with 1 Axes>"
      ]
     },
     "metadata": {
      "needs_background": "light"
     },
     "output_type": "display_data"
    }
   ],
   "source": [
    "plt.scatter(city_df[\"Latitude\"],city_df[\"Humidity\"])  \n",
    "plt.ylabel('Humidity (%)')\n",
    "plt.xlabel('Latitude')\n",
    "plt.title('City Latitude vs. Humidity')\n",
    "plt.show()"
   ]
  },
  {
   "cell_type": "markdown",
   "metadata": {},
   "source": [
    "## Latitude vs. Cloudiness Plot"
   ]
  },
  {
   "cell_type": "code",
   "execution_count": 16,
   "metadata": {},
   "outputs": [
    {
     "data": {
      "image/png": "[encoded data removed]",
      "text/plain": [
       "<Figure size 432x288 with 1 Axes>"
      ]
     },
     "metadata": {
      "needs_background": "light"
     },
     "output_type": "display_data"
    }
   ],
   "source": [
    "plt.scatter(city_df[\"Latitude\"],city_df[\"Cloudiness\"])  \n",
    "plt.ylabel('Humidity (%)')\n",
    "plt.xlabel('Latitude')\n",
    "plt.title('City Latitude vs. Humidity')\n",
    "plt.show()"
   ]
  },
  {
   "cell_type": "markdown",
   "metadata": {},
   "source": [
    "## Latitude vs. Wind Speed Plot"
   ]
  },
  {
   "cell_type": "code",
   "execution_count": 17,
   "metadata": {},
   "outputs": [
    {
     "data": {
      "image/png": "[encoded data removed]",
      "text/plain": [
       "<Figure size 432x288 with 1 Axes>"
      ]
     },
     "metadata": {
      "needs_background": "light"
     },
     "output_type": "display_data"
    }
   ],
   "source": [
    "plt.scatter(city_df[\"Latitude\"],city_df[\"Wind Speed\"])  \n",
    "plt.ylabel('Wind Speed')\n",
    "plt.xlabel('Latitude')\n",
    "plt.title('City Latitude vs.')\n",
    "plt.show()"
   ]
  },
  {
   "cell_type": "markdown",
   "metadata": {},
   "source": [
    "## Linear Regression"
   ]
  },
  {
   "cell_type": "code",
   "execution_count": 18,
   "metadata": {},
   "outputs": [],
   "source": [
    "northern_hemisphere_df = city_df.loc[city_df[\"Latitude\"] >= 0]\n",
    "southern_hemisphere_df = city_df.loc[city_df[\"Latitude\"] <= 0]\n",
    "\n",
    "\n"
   ]
  },
  {
   "cell_type": "markdown",
   "metadata": {},
   "source": [
    "####  Northern Hemisphere - Max Temp vs. Latitude Linear Regression"
   ]
  },
  {
   "cell_type": "code",
   "execution_count": 19,
   "metadata": {},
   "outputs": [
    {
     "name": "stdout",
     "output_type": "stream",
     "text": [
      "The correlation between weight and average tumor volume\n",
      "is -0.87.\n"
     ]
    },
    {
     "data": {
      "image/png": "[encoded data removed]",
      "text/plain": [
       "<Figure size 432x288 with 1 Axes>"
      ]
     },
     "metadata": {
      "needs_background": "light"
     },
     "output_type": "display_data"
    }
   ],
   "source": [
    "x = northern_hemisphere_df['Temperature']\n",
    "y = northern_hemisphere_df['Latitude']\n",
    "\n",
    "\n",
    "correlation = st.pearsonr(x,y)\n",
    "\n",
    "print(f\"\"\"The correlation between weight and average tumor volume\n",
    "is {round(correlation[0],2)}.\"\"\")\n",
    "\n",
    "\n",
    "(slope, intercept, rvalue, pvalue, stderr) = linregress(x, y)\n",
    "regress_values = x * slope + intercept\n",
    "line_eq = \"y = \" + str(round(slope,2)) + \"x + \" + str(round(intercept,2))\n",
    "plt.scatter(x,y)\n",
    "plt.plot(x,regress_values,\"r-\")\n",
    "\n",
    "plt.annotate(line_eq,(18,32),fontsize=15,color=\"red\")\n",
    "\n",
    "plt.xlabel('Weight (g)')\n",
    "plt.ylabel('Tumor Volume (mm3)')\n",
    "\n",
    "plt.show()"
   ]
  },
  {
   "cell_type": "markdown",
   "metadata": {},
   "source": [
    "####  Southern Hemisphere - Max Temp vs. Latitude Linear Regression"
   ]
  },
  {
   "cell_type": "code",
   "execution_count": 20,
   "metadata": {},
   "outputs": [
    {
     "name": "stdout",
     "output_type": "stream",
     "text": [
      "The correlation between weight and average tumor volume\n",
      "is 0.74.\n"
     ]
    },
    {
     "data": {
      "image/png": "[encoded data removed]",
      "text/plain": [
       "<Figure size 432x288 with 1 Axes>"
      ]
     },
     "metadata": {
      "needs_background": "light"
     },
     "output_type": "display_data"
    }
   ],
   "source": [
    "x = southern_hemisphere_df ['Temperature']\n",
    "y = southern_hemisphere_df ['Latitude']\n",
    "\n",
    "\n",
    "correlation = st.pearsonr(x,y)\n",
    "\n",
    "print(f\"\"\"The correlation between weight and average tumor volume\n",
    "is {round(correlation[0],2)}.\"\"\")\n",
    "\n",
    "\n",
    "(slope, intercept, rvalue, pvalue, stderr) = linregress(x, y)\n",
    "regress_values = x * slope + intercept\n",
    "line_eq = \"y = \" + str(round(slope,2)) + \"x + \" + str(round(intercept,2))\n",
    "plt.scatter(x,y)\n",
    "plt.plot(x,regress_values,\"r-\")\n",
    "\n",
    "plt.annotate(line_eq,(18,32),fontsize=15,color=\"red\")\n",
    "\n",
    "plt.xlabel('Weight (g)')\n",
    "plt.ylabel('Tumor Volume (mm3)')\n",
    "\n",
    "plt.show()"
   ]
  },
  {
   "cell_type": "markdown",
   "metadata": {},
   "source": [
    "####  Northern Hemisphere - Humidity (%) vs. Latitude Linear Regression"
   ]
  },
  {
   "cell_type": "code",
   "execution_count": 21,
   "metadata": {},
   "outputs": [
    {
     "name": "stdout",
     "output_type": "stream",
     "text": [
      "The correlation between weight and average tumor volume\n",
      "is 0.26.\n"
     ]
    },
    {
     "data": {
      "image/png": "[encoded data removed]",
      "text/plain": [
       "<Figure size 432x288 with 1 Axes>"
      ]
     },
     "metadata": {
      "needs_background": "light"
     },
     "output_type": "display_data"
    }
   ],
   "source": [
    "x = northern_hemisphere_df ['Humidity']\n",
    "y = northern_hemisphere_df ['Latitude']\n",
    "\n",
    "\n",
    "correlation = st.pearsonr(x,y)\n",
    "\n",
    "print(f\"\"\"The correlation between weight and average tumor volume\n",
    "is {round(correlation[0],2)}.\"\"\")\n",
    "\n",
    "\n",
    "(slope, intercept, rvalue, pvalue, stderr) = linregress(x, y)\n",
    "regress_values = x * slope + intercept\n",
    "line_eq = \"y = \" + str(round(slope,2)) + \"x + \" + str(round(intercept,2))\n",
    "plt.scatter(x,y)\n",
    "plt.plot(x,regress_values,\"r-\")\n",
    "\n",
    "plt.annotate(line_eq,(18,32),fontsize=15,color=\"red\")\n",
    "\n",
    "plt.xlabel('Weight (g)')\n",
    "plt.ylabel('Tumor Volume (mm3)')\n",
    "\n",
    "plt.show()"
   ]
  },
  {
   "cell_type": "markdown",
   "metadata": {},
   "source": [
    "####  Southern Hemisphere - Humidity (%) vs. Latitude Linear Regression"
   ]
  },
  {
   "cell_type": "code",
   "execution_count": 22,
   "metadata": {},
   "outputs": [
    {
     "name": "stdout",
     "output_type": "stream",
     "text": [
      "The correlation between weight and average tumor volume\n",
      "is 0.15.\n"
     ]
    },
    {
     "data": {
      "image/png": "[encoded data removed]",
      "text/plain": [
       "<Figure size 432x288 with 1 Axes>"
      ]
     },
     "metadata": {
      "needs_background": "light"
     },
     "output_type": "display_data"
    }
   ],
   "source": [
    "x = southern_hemisphere_df ['Humidity']\n",
    "y = southern_hemisphere_df ['Latitude']\n",
    "\n",
    "\n",
    "correlation = st.pearsonr(x,y)\n",
    "\n",
    "print(f\"\"\"The correlation between weight and average tumor volume\n",
    "is {round(correlation[0],2)}.\"\"\")\n",
    "\n",
    "\n",
    "(slope, intercept, rvalue, pvalue, stderr) = linregress(x, y)\n",
    "regress_values = x * slope + intercept\n",
    "line_eq = \"y = \" + str(round(slope,2)) + \"x + \" + str(round(intercept,2))\n",
    "plt.scatter(x,y)\n",
    "plt.plot(x,regress_values,\"r-\")\n",
    "\n",
    "plt.annotate(line_eq,(18,32),fontsize=15,color=\"red\")\n",
    "\n",
    "plt.xlabel('Weight (g)')\n",
    "plt.ylabel('Tumor Volume (mm3)')\n",
    "\n",
    "plt.show()"
   ]
  },
  {
   "cell_type": "markdown",
   "metadata": {},
   "source": [
    "####  Northern Hemisphere - Cloudiness (%) vs. Latitude Linear Regression"
   ]
  },
  {
   "cell_type": "code",
   "execution_count": 23,
   "metadata": {},
   "outputs": [
    {
     "name": "stdout",
     "output_type": "stream",
     "text": [
      "The correlation between weight and average tumor volume\n",
      "is 0.29.\n"
     ]
    },
    {
     "data": {
      "image/png": "[encoded data removed]",
      "text/plain": [
       "<Figure size 432x288 with 1 Axes>"
      ]
     },
     "metadata": {
      "needs_background": "light"
     },
     "output_type": "display_data"
    }
   ],
   "source": [
    "x = northern_hemisphere_df ['Cloudiness']\n",
    "y = northern_hemisphere_df ['Latitude']\n",
    "\n",
    "\n",
    "correlation = st.pearsonr(x,y)\n",
    "\n",
    "print(f\"\"\"The correlation between weight and average tumor volume\n",
    "is {round(correlation[0],2)}.\"\"\")\n",
    "\n",
    "\n",
    "(slope, intercept, rvalue, pvalue, stderr) = linregress(x, y)\n",
    "regress_values = x * slope + intercept\n",
    "line_eq = \"y = \" + str(round(slope,2)) + \"x + \" + str(round(intercept,2))\n",
    "plt.scatter(x,y)\n",
    "plt.plot(x,regress_values,\"r-\")\n",
    "\n",
    "plt.annotate(line_eq,(18,32),fontsize=15,color=\"red\")\n",
    "\n",
    "plt.xlabel('Weight (g)')\n",
    "plt.ylabel('Tumor Volume (mm3)')\n",
    "\n",
    "plt.show()"
   ]
  },
  {
   "cell_type": "markdown",
   "metadata": {},
   "source": [
    "####  Southern Hemisphere - Cloudiness (%) vs. Latitude Linear Regression"
   ]
  },
  {
   "cell_type": "code",
   "execution_count": 24,
   "metadata": {},
   "outputs": [
    {
     "name": "stdout",
     "output_type": "stream",
     "text": [
      "The correlation between weight and average tumor volume\n",
      "is 0.15.\n"
     ]
    },
    {
     "data": {
      "image/png": "[encoded data removed]",
      "text/plain": [
       "<Figure size 432x288 with 1 Axes>"
      ]
     },
     "metadata": {
      "needs_background": "light"
     },
     "output_type": "display_data"
    }
   ],
   "source": [
    "x = southern_hemisphere_df ['Cloudiness']\n",
    "y = southern_hemisphere_df ['Latitude']\n",
    "\n",
    "\n",
    "correlation = st.pearsonr(x,y)\n",
    "\n",
    "print(f\"\"\"The correlation between weight and average tumor volume\n",
    "is {round(correlation[0],2)}.\"\"\")\n",
    "\n",
    "\n",
    "(slope, intercept, rvalue, pvalue, stderr) = linregress(x, y)\n",
    "regress_values = x * slope + intercept\n",
    "line_eq = \"y = \" + str(round(slope,2)) + \"x + \" + str(round(intercept,2))\n",
    "plt.scatter(x,y)\n",
    "plt.plot(x,regress_values,\"r-\")\n",
    "\n",
    "plt.annotate(line_eq,(18,32),fontsize=15,color=\"red\")\n",
    "\n",
    "plt.xlabel('Weight (g)')\n",
    "plt.ylabel('Tumor Volume (mm3)')\n",
    "\n",
    "plt.show()"
   ]
  },
  {
   "cell_type": "markdown",
   "metadata": {},
   "source": [
    "####  Northern Hemisphere - Wind Speed (mph) vs. Latitude Linear Regression"
   ]
  },
  {
   "cell_type": "code",
   "execution_count": 25,
   "metadata": {},
   "outputs": [
    {
     "name": "stdout",
     "output_type": "stream",
     "text": [
      "The correlation between weight and average tumor volume\n",
      "is -0.01.\n"
     ]
    },
    {
     "data": {
      "image/png": "[encoded data removed]",
      "text/plain": [
       "<Figure size 432x288 with 1 Axes>"
      ]
     },
     "metadata": {
      "needs_background": "light"
     },
     "output_type": "display_data"
    }
   ],
   "source": [
    "x = northern_hemisphere_df ['Wind Speed']\n",
    "y = northern_hemisphere_df ['Latitude']\n",
    "\n",
    "\n",
    "correlation = st.pearsonr(x,y)\n",
    "\n",
    "print(f\"\"\"The correlation between weight and average tumor volume\n",
    "is {round(correlation[0],2)}.\"\"\")\n",
    "\n",
    "\n",
    "(slope, intercept, rvalue, pvalue, stderr) = linregress(x, y)\n",
    "regress_values = x * slope + intercept\n",
    "line_eq = \"y = \" + str(round(slope,2)) + \"x + \" + str(round(intercept,2))\n",
    "plt.scatter(x,y)\n",
    "plt.plot(x,regress_values,\"r-\")\n",
    "\n",
    "plt.annotate(line_eq,(18,32),fontsize=15,color=\"red\")\n",
    "\n",
    "plt.xlabel('Weight (g)')\n",
    "plt.ylabel('Tumor Volume (mm3)')\n",
    "\n",
    "plt.show()"
   ]
  },
  {
   "cell_type": "markdown",
   "metadata": {},
   "source": [
    "####  Southern Hemisphere - Wind Speed (mph) vs. Latitude Linear Regression"
   ]
  },
  {
   "cell_type": "code",
   "execution_count": 26,
   "metadata": {},
   "outputs": [
    {
     "name": "stdout",
     "output_type": "stream",
     "text": [
      "The correlation between weight and average tumor volume\n",
      "is -0.27.\n"
     ]
    },
    {
     "data": {
      "image/png": "[encoded data removed]",
      "text/plain": [
       "<Figure size 432x288 with 1 Axes>"
      ]
     },
     "metadata": {
      "needs_background": "light"
     },
     "output_type": "display_data"
    }
   ],
   "source": [
    "x = southern_hemisphere_df ['Wind Speed']\n",
    "y = southern_hemisphere_df ['Latitude']\n",
    "\n",
    "\n",
    "correlation = st.pearsonr(x,y)\n",
    "\n",
    "print(f\"\"\"The correlation between weight and average tumor volume\n",
    "is {round(correlation[0],2)}.\"\"\")\n",
    "\n",
    "\n",
    "(slope, intercept, rvalue, pvalue, stderr) = linregress(x, y)\n",
    "regress_values = x * slope + intercept\n",
    "line_eq = \"y = \" + str(round(slope,2)) + \"x + \" + str(round(intercept,2))\n",
    "plt.scatter(x,y)\n",
    "plt.plot(x,regress_values,\"r-\")\n",
    "\n",
    "plt.annotate(line_eq,(18,32),fontsize=15,color=\"red\")\n",
    "\n",
    "plt.xlabel('Weight (g)')\n",
    "plt.ylabel('Tumor Volume (mm3)')\n",
    "\n",
    "plt.show()"
   ]
  },
  {
   "cell_type": "code",
   "execution_count": null,
   "metadata": {},
   "outputs": [],
   "source": []
  }
 ],
 "metadata": {
  "anaconda-cloud": {},
  "kernel_info": {
   "name": "python3"
  },
  "kernelspec": {
   "display_name": "Python 3 (ipykernel)",
   "language": "python",
   "name": "python3"
  },
  "language_info": {
   "codemirror_mode": {
    "name": "ipython",
    "version": 3
   },
   "file_extension": ".py",
   "mimetype": "text/x-python",
   "name": "python",
   "nbconvert_exporter": "python",
   "pygments_lexer": "ipython3",
   "version": "3.9.7"
  },
  "latex_envs": {
   "LaTeX_envs_menu_present": true,
   "autoclose": false,
   "autocomplete": true,
   "bibliofile": "biblio.bib",
   "cite_by": "apalike",
   "current_citInitial": 1,
   "eqLabelWithNumbers": true,
   "eqNumInitial": 1,
   "hotkeys": {
    "equation": "Ctrl-E",
    "itemize": "Ctrl-I"
   },
   "labels_anchors": false,
   "latex_user_defs": false,
   "report_style_numbering": false,
   "user_envs_cfg": false
  },
  "nteract": {
   "version": "0.12.3"
  }
 },
 "nbformat": 4,
 "nbformat_minor": 2
}
