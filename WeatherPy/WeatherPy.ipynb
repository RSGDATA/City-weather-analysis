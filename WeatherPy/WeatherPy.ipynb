{
 "cells": [
  {
   "cell_type": "markdown",
   "metadata": {},
   "source": [
    "# WeatherPy\n",
    "----\n",
    "\n",
    "#### Note\n",
    "* Instructions have been included for each segment. You do not have to follow them exactly, but they are included to help you think through the steps."
   ]
  },
  {
   "cell_type": "code",
   "execution_count": 1,
   "metadata": {},
   "outputs": [
    {
     "name": "stdout",
     "output_type": "stream",
     "text": [
      "Requirement already satisfied: citipy in /Users/andrealynnbaker/opt/anaconda3/lib/python3.9/site-packages (0.0.5)\r\n",
      "Requirement already satisfied: kdtree>=0.12 in /Users/andrealynnbaker/opt/anaconda3/lib/python3.9/site-packages (from citipy) (0.16)\r\n"
     ]
    }
   ],
   "source": [
    "!pip install citipy"
   ]
  },
  {
   "cell_type": "code",
   "execution_count": 2,
   "metadata": {},
   "outputs": [
    {
     "name": "stdout",
     "output_type": "stream",
     "text": [
      "Requirement already satisfied: config in /Users/andrealynnbaker/opt/anaconda3/lib/python3.9/site-packages (0.5.1)\r\n"
     ]
    }
   ],
   "source": [
    " !pip install config"
   ]
  },
  {
   "cell_type": "code",
   "execution_count": 3,
   "metadata": {
    "scrolled": true
   },
   "outputs": [],
   "source": [
    "# Dependencies and Setup\n",
    "import matplotlib.pyplot as plt\n",
    "import pandas as pd\n",
    "import numpy as np\n",
    "import requests\n",
    "import time\n",
    "from scipy.stats import linregress\n",
    "import scipy.stats as st\n",
    "\n",
    "\n",
    "\n",
    "# Import API key\n",
    "from api_keys import weather_api_key\n",
    "\n",
    "# Incorporated citipy to determine city based on latitude and longitude\n",
    "from citipy import citipy\n",
    "\n",
    "# Output File (CSV)\n",
    "output_data_file = \"output_data/cities.csv\"\n",
    "\n",
    "# Range of latitudes and longitudes\n",
    "lat_range = (-90, 90)\n",
    "lng_range = (-180, 180)"
   ]
  },
  {
   "cell_type": "markdown",
   "metadata": {},
   "source": [
    "## Generate Cities List"
   ]
  },
  {
   "cell_type": "code",
   "execution_count": 4,
   "metadata": {},
   "outputs": [
    {
     "data": {
      "text/plain": [
       "626"
      ]
     },
     "execution_count": 4,
     "metadata": {},
     "output_type": "execute_result"
    }
   ],
   "source": [
    "# List for holding lat_lngs and cities\n",
    "lat_lngs = []\n",
    "cities = []\n",
    "\n",
    "# Create a set of random lat and lng combinations\n",
    "lats = np.random.uniform(lat_range[0], lat_range[1], size=1500)\n",
    "lngs = np.random.uniform(lng_range[0], lng_range[1], size=1500)\n",
    "lat_lngs = zip(lats, lngs)\n",
    "\n",
    "# Identify nearest city for each lat, lng combination\n",
    "for lat_lng in lat_lngs:\n",
    "     \n",
    "    \n",
    "    city = citipy.nearest_city(lat_lng[0], lat_lng[1]).city_name\n",
    "    \n",
    "    # If the city is unique, then add it to a our cities list\n",
    "    if city not in cities:\n",
    "        cities.append(city)\n",
    "\n",
    "# Print the city count to confirm sufficient count\n",
    "len(cities)"
   ]
  },
  {
   "cell_type": "code",
   "execution_count": null,
   "metadata": {},
   "outputs": [],
   "source": []
  },
  {
   "cell_type": "markdown",
   "metadata": {},
   "source": [
    "### Perform API Calls\n",
    "* Perform a weather check on each city using a series of successive API calls.\n",
    "* Include a print log of each city as it'sbeing processed (with the city number and city name).\n"
   ]
  },
  {
   "cell_type": "code",
   "execution_count": 5,
   "metadata": {
    "scrolled": true
   },
   "outputs": [
    {
     "name": "stdout",
     "output_type": "stream",
     "text": [
      "city: ponta do sol 1\n",
      "city: nova prata 2\n",
      "city: verkhnedneprovskiy 3\n",
      "city: bambous virieux 4\n",
      "city: hithadhoo 5\n",
      "city: sulangan 6\n",
      "city: tasiilaq 7\n",
      "city: ushuaia 8\n",
      "city: new norfolk 9\n",
      "city: butaritari 10\n",
      "city: kapaa 11\n",
      "city: vangaindrano 12\n",
      "city: port elizabeth 13\n",
      "city: opelousas 14\n",
      "city: navahrudak 15\n",
      "city: mahebourg 16\n",
      "city: aberdeen 17\n",
      "not found grand river south east\n",
      "not found richard toll\n",
      "city: ayr 18\n",
      "city: thompson 19\n",
      "city: busselton 20\n",
      "city: half moon bay 21\n",
      "city: albany 22\n",
      "city: tiksi 23\n",
      "city: tuatapere 24\n",
      "city: dunedin 25\n",
      "city: hobart 26\n",
      "city: longyearbyen 27\n",
      "city: sontra 28\n",
      "city: bandarban 29\n",
      "not found ust-kamchatsk\n",
      "city: kaitangata 30\n",
      "city: zhigansk 31\n",
      "city: tilichiki 32\n",
      "city: bredasdorp 33\n",
      "city: tailai 34\n",
      "city: puerto ayora 35\n",
      "city: abu samrah 36\n",
      "city: praia 37\n",
      "not found mys shmidta\n",
      "city: romilly-sur-seine 38\n",
      "city: nikolskoye 39\n",
      "not found illoqqortoormiut\n",
      "city: te anau 40\n",
      "city: jamestown 41\n",
      "city: carnarvon 42\n",
      "city: derzhavinsk 43\n",
      "city: russell 44\n",
      "city: chokurdakh 45\n",
      "city: komsomolskiy 46\n",
      "city: cherskiy 47\n",
      "city: sao felix do xingu 48\n",
      "city: punta arenas 49\n",
      "city: petropavlovsk-kamchatskiy 50\n",
      "city: atuona 51\n",
      "city: esperance 52\n",
      "city: mataura 53\n",
      "not found taolanaro\n",
      "city: khatanga 54\n",
      "city: oksfjord 55\n",
      "city: avarua 56\n",
      "city: takoradi 57\n",
      "city: mar del plata 58\n",
      "city: chabahar 59\n",
      "city: ust-omchug 60\n",
      "city: hasaki 61\n",
      "not found grand centre\n",
      "city: parkes 62\n",
      "city: cidreira 63\n",
      "city: hermanus 64\n",
      "city: sur 65\n",
      "city: launceston 66\n",
      "city: manjacaze 67\n",
      "city: vaini 68\n",
      "city: ribeira grande 69\n",
      "city: kununurra 70\n",
      "city: quatre cocos 71\n",
      "city: pangnirtung 72\n",
      "city: masloc 73\n",
      "city: faya 74\n",
      "city: hua hin 75\n",
      "city: namatanai 76\n",
      "not found belushya guba\n",
      "city: ixtapa 77\n",
      "city: clyde river 78\n",
      "city: hilo 79\n",
      "city: tual 80\n",
      "city: talnakh 81\n",
      "city: hanahan 82\n",
      "city: fort nelson 83\n",
      "city: laguna 84\n",
      "city: qaanaaq 85\n",
      "city: codrington 86\n",
      "city: aklavik 87\n",
      "city: kashi 88\n",
      "city: yellowknife 89\n",
      "city: monrovia 90\n",
      "city: kodiak 91\n",
      "city: damghan 92\n",
      "city: sitka 93\n",
      "city: jishou 94\n",
      "city: praia da vitoria 95\n",
      "city: daitari 96\n",
      "city: haines junction 97\n",
      "city: rikitea 98\n",
      "city: marsh harbour 99\n",
      "city: bahia blanca 100\n",
      "not found dolbeau\n",
      "city: saint anthony 101\n",
      "city: ilulissat 102\n",
      "city: tuktoyaktuk 103\n",
      "city: port alfred 104\n",
      "city: chulym 105\n",
      "city: milazzo 106\n",
      "city: klaksvik 107\n",
      "city: changji 108\n",
      "city: berlevag 109\n",
      "city: kokopo 110\n",
      "city: lorengau 111\n",
      "city: touros 112\n",
      "city: zhanakorgan 113\n",
      "city: yumen 114\n",
      "city: avera 115\n",
      "city: ahipara 116\n",
      "city: korla 117\n",
      "city: mount gambier 118\n",
      "city: maniitsoq 119\n",
      "city: grand gaube 120\n",
      "city: ossora 121\n",
      "city: arraial do cabo 122\n",
      "city: khor 123\n",
      "city: phan thiet 124\n",
      "city: huntington 125\n",
      "city: georgetown 126\n",
      "city: dikson 127\n",
      "not found tarudant\n",
      "city: yuancheng 128\n",
      "city: alice springs 129\n",
      "city: yarim 130\n",
      "city: beringovskiy 131\n",
      "city: shelburne 132\n",
      "city: bilma 133\n",
      "city: port-cartier 134\n",
      "city: richards bay 135\n",
      "city: puerto del rosario 136\n",
      "city: chuy 137\n",
      "city: chapais 138\n",
      "city: mumford 139\n",
      "city: victoria 140\n",
      "city: kamenka 141\n",
      "city: yar-sale 142\n",
      "city: cape town 143\n",
      "city: bandarbeyla 144\n",
      "not found kamenskoye\n",
      "city: moose factory 145\n",
      "city: polunochnoye 146\n",
      "city: hastings 147\n",
      "city: mabaruma 148\n",
      "city: kavaratti 149\n",
      "city: nobres 150\n",
      "city: san felipe 151\n",
      "city: pevek 152\n",
      "city: nantucket 153\n",
      "city: champerico 154\n",
      "city: penzance 155\n",
      "not found artyk\n",
      "city: hendek 156\n",
      "not found vaitupu\n",
      "city: fairbanks 157\n",
      "city: tiarei 158\n",
      "city: scarborough 159\n",
      "not found wulanhaote\n",
      "city: port hardy 160\n",
      "city: osypenko 161\n",
      "city: najran 162\n",
      "city: fortuna 163\n",
      "city: bluff 164\n",
      "city: carbonia 165\n",
      "not found barentsburg\n",
      "city: new richmond 166\n",
      "city: bonthe 167\n",
      "city: dzhebariki-khaya 168\n",
      "city: san patricio 169\n",
      "city: wokha 170\n",
      "city: pisco 171\n",
      "city: margate 172\n",
      "not found taga dzong\n",
      "city: karratha 173\n",
      "city: dingle 174\n",
      "not found hvammstangi\n",
      "city: motygino 175\n",
      "city: kaeo 176\n",
      "not found malwan\n",
      "city: wilmington 177\n",
      "city: flinders 178\n",
      "city: bengkulu 179\n",
      "not found phnum penh\n",
      "city: port lincoln 180\n",
      "city: ostrovnoy 181\n",
      "city: indiaroba 182\n",
      "city: lempaala 183\n",
      "city: mackay 184\n",
      "city: lebu 185\n",
      "city: tashara 186\n",
      "city: firovo 187\n",
      "city: kavieng 188\n",
      "city: nyurba 189\n",
      "not found sentyabrskiy\n",
      "city: buala 190\n",
      "city: severnyy 191\n",
      "city: shingu 192\n",
      "city: san juan 193\n",
      "city: port-gentil 194\n",
      "city: itarema 195\n",
      "not found ambodifototra\n",
      "not found amderma\n",
      "city: tanout 196\n",
      "city: ulladulla 197\n",
      "not found bargal\n",
      "city: ziarat 198\n",
      "city: filingue 199\n",
      "city: narsaq 200\n",
      "city: belyy yar 201\n",
      "city: namibe 202\n",
      "city: sorland 203\n",
      "city: presidencia roque saenz pena 204\n",
      "city: kloulklubed 205\n",
      "city: airai 206\n",
      "city: san policarpo 207\n",
      "city: opuwo 208\n",
      "not found ozgon\n",
      "city: port moresby 209\n",
      "city: sines 210\n",
      "city: hrodna 211\n",
      "city: mezdra 212\n",
      "city: lagoa 213\n",
      "city: matara 214\n",
      "not found toftir\n",
      "city: cayenne 215\n",
      "city: pemangkat 216\n",
      "city: vysokogornyy 217\n",
      "city: sinnamary 218\n",
      "city: provideniya 219\n",
      "city: faribault 220\n",
      "city: lanzhou 221\n",
      "city: lipari 222\n",
      "not found gorno-chuyskiy\n",
      "city: bambanglipuro 223\n",
      "city: bathsheba 224\n",
      "city: coruripe 225\n",
      "city: shirgaon 226\n",
      "city: grindavik 227\n",
      "city: miquelon 228\n",
      "city: seabra 229\n",
      "city: galle 230\n",
      "city: bahir dar 231\n",
      "city: sisimiut 232\n",
      "city: varadero 233\n",
      "city: faanui 234\n",
      "city: walvis bay 235\n",
      "city: kisangani 236\n",
      "city: ambilobe 237\n",
      "city: torbay 238\n",
      "city: santa rosa 239\n",
      "not found bokspits\n",
      "city: talaya 240\n",
      "city: etawah 241\n",
      "city: minatitlan 242\n",
      "not found tsihombe\n",
      "city: rocha 243\n",
      "not found umzimvubu\n",
      "city: leshukonskoye 244\n",
      "city: armidale 245\n",
      "city: vila franca do campo 246\n",
      "city: todos santos 247\n",
      "city: balkanabat 248\n",
      "city: gornopravdinsk 249\n",
      "city: jambi 250\n",
      "city: zyryanka 251\n",
      "not found attawapiskat\n",
      "city: pervomayskoye 252\n",
      "city: east london 253\n",
      "city: sergeyevka 254\n",
      "city: henties bay 255\n",
      "city: big spring 256\n",
      "city: husavik 257\n",
      "city: bubaque 258\n",
      "city: lima 259\n",
      "city: coquimbo 260\n",
      "city: altay 261\n",
      "city: shimoda 262\n",
      "city: muroto 263\n",
      "not found saleaula\n",
      "city: diffa 264\n",
      "city: esna 265\n",
      "city: zamora 266\n",
      "city: perelyub 267\n",
      "city: chickasha 268\n",
      "city: urucara 269\n",
      "city: sao filipe 270\n",
      "city: upernavik 271\n",
      "city: jiamusi 272\n",
      "city: castro 273\n",
      "city: aksu 274\n",
      "city: talcahuano 275\n",
      "city: srednekolymsk 276\n",
      "city: waipawa 277\n",
      "city: leningradskiy 278\n",
      "city: ukiah 279\n",
      "city: kropotkin 280\n",
      "city: lumberton 281\n",
      "city: port hedland 282\n",
      "not found nizhneyansk\n",
      "city: brae 283\n",
      "city: atar 284\n",
      "city: tawang 285\n",
      "city: cabo san lucas 286\n",
      "city: omsukchan 287\n",
      "city: sangar 288\n",
      "city: tayoltita 289\n",
      "city: marshall 290\n",
      "city: mitsamiouli 291\n",
      "city: podporozhye 292\n",
      "city: bonavista 293\n",
      "city: tosya 294\n",
      "city: roma 295\n",
      "city: tuburan 296\n",
      "city: cariamanga 297\n",
      "city: hovd 298\n",
      "city: osoyoos 299\n",
      "city: santa maria 300\n",
      "city: artyom 301\n",
      "city: muswellbrook 302\n",
      "city: barrow 303\n",
      "city: itoman 304\n",
      "city: wloclawek 305\n",
      "city: marsaxlokk 306\n",
      "city: santarem 307\n",
      "city: padang 308\n",
      "city: batagay-alyta 309\n",
      "city: iqaluit 310\n",
      "city: bastia 311\n",
      "city: alofi 312\n",
      "city: singarayakonda 313\n",
      "city: djambala 314\n",
      "city: broken hill 315\n",
      "city: guerrero negro 316\n",
      "city: dibulla 317\n",
      "city: nanding 318\n",
      "city: dunmore east 319\n",
      "city: tingambato 320\n",
      "city: acajutla 321\n",
      "city: katima mulilo 322\n",
      "city: luderitz 323\n",
      "city: bethel 324\n",
      "city: key west 325\n",
      "city: saskylakh 326\n",
      "city: annau 327\n",
      "city: thunder bay 328\n",
      "city: mnogovershinnyy 329\n",
      "city: bariadi 330\n",
      "city: chai badan 331\n",
      "city: saint-philippe 332\n",
      "city: cameron park 333\n",
      "city: kazachinskoye 334\n",
      "city: bereznik 335\n",
      "city: saint george 336\n",
      "city: diego de almagro 337\n",
      "city: muros 338\n",
      "city: mana 339\n",
      "city: naze 340\n",
      "city: panalingaan 341\n",
      "city: elliot 342\n",
      "city: camacha 343\n",
      "city: marfino 344\n",
      "city: luganville 345\n",
      "city: buchach 346\n",
      "city: nogliki 347\n",
      "city: tessalit 348\n",
      "not found tumannyy\n",
      "city: the valley 349\n",
      "city: vestmannaeyjar 350\n",
      "city: vila velha 351\n",
      "city: srivardhan 352\n",
      "city: hamilton 353\n",
      "city: mwinilunga 354\n",
      "city: valparaiso 355\n",
      "city: yeppoon 356\n",
      "city: constitucion 357\n",
      "city: coracora 358\n",
      "city: plymouth 359\n",
      "not found lolua\n",
      "city: nanortalik 360\n",
      "not found rungata\n",
      "not found burica\n",
      "city: dali 361\n",
      "city: luena 362\n",
      "city: calamar 363\n",
      "not found tabiauea\n",
      "not found marcona\n",
      "not found geresk\n",
      "city: vostok 364\n",
      "city: qasigiannguit 365\n",
      "city: kattivakkam 366\n",
      "city: hokitika 367\n",
      "city: mae sai 368\n",
      "city: atasu 369\n",
      "city: vardo 370\n",
      "city: orapa 371\n",
      "city: kirakira 372\n",
      "city: bedesa 373\n",
      "city: buchanan 374\n",
      "city: farafangana 375\n",
      "city: hualmay 376\n",
      "city: evensk 377\n",
      "not found cambyreta\n",
      "not found kazalinsk\n",
      "city: broome 378\n",
      "not found samusu\n",
      "city: lerwick 379\n",
      "city: morondava 380\n",
      "city: voh 381\n"
     ]
    },
    {
     "name": "stdout",
     "output_type": "stream",
     "text": [
      "city: severo-kurilsk 382\n",
      "city: oparino 383\n",
      "city: alta floresta 384\n",
      "city: ouadda 385\n",
      "city: lais 386\n",
      "city: wasilla 387\n",
      "city: vao 388\n",
      "city: katsuura 389\n",
      "city: dongsheng 390\n",
      "city: kanniyakumari 391\n",
      "city: nizwa 392\n",
      "city: concarneau 393\n",
      "city: okmulgee 394\n",
      "city: almere 395\n",
      "city: asau 396\n",
      "city: nouadhibou 397\n",
      "city: tchaourou 398\n",
      "city: kharan 399\n",
      "city: ketchikan 400\n",
      "city: yablonovo 401\n",
      "city: tigzirt 402\n",
      "city: palmer 403\n",
      "city: campbell river 404\n",
      "city: deputatskiy 405\n",
      "city: sao geraldo do araguaia 406\n",
      "city: bemidji 407\n",
      "city: akcakoca 408\n",
      "city: kudat 409\n",
      "city: pacifica 410\n",
      "city: mombetsu 411\n",
      "city: chiampo 412\n",
      "city: saldanha 413\n",
      "city: pringsewu 414\n",
      "not found khonuu\n",
      "not found rolim de moura\n",
      "city: morant bay 415\n",
      "city: mananjary 416\n",
      "city: teknaf 417\n",
      "city: ballina 418\n",
      "city: mocuba 419\n",
      "city: goure 420\n",
      "city: canete 421\n",
      "city: vila 422\n",
      "not found aflu\n",
      "not found abiy adi\n",
      "city: conde 423\n",
      "city: souillac 424\n",
      "city: norman wells 425\n",
      "city: asfi 426\n",
      "city: jacareacanga 427\n",
      "city: nome 428\n",
      "city: geraldton 429\n",
      "city: limbe 430\n",
      "not found meyungs\n",
      "city: labuhan 431\n",
      "city: bindura 432\n",
      "city: sola 433\n",
      "city: perth 434\n",
      "city: kralendijk 435\n",
      "not found one hundred mile house\n",
      "city: cockburn town 436\n",
      "city: tommot 437\n",
      "city: miranda 438\n",
      "city: la palma 439\n",
      "city: mersing 440\n",
      "city: waikuku 441\n",
      "city: tura 442\n",
      "city: gasa 443\n",
      "city: port macquarie 444\n",
      "city: huilong 445\n",
      "city: muli 446\n",
      "city: verkh-usugli 447\n",
      "city: cravo norte 448\n",
      "city: baghdad 449\n",
      "city: poum 450\n",
      "city: maple creek 451\n",
      "not found tuggurt\n",
      "city: tskaltubo 452\n",
      "city: roald 453\n",
      "city: cordoba 454\n",
      "city: waycross 455\n",
      "city: salalah 456\n",
      "city: hambantota 457\n",
      "city: el carmen 458\n",
      "not found kerteh\n",
      "not found bacuit\n",
      "city: palm beach 459\n",
      "city: sokoto 460\n",
      "city: ashington 461\n",
      "city: lata 462\n",
      "city: pocinhos 463\n",
      "city: maksatikha 464\n",
      "city: qarayeri 465\n",
      "city: saint-pierre 466\n",
      "not found azimur\n",
      "city: sakakah 467\n",
      "city: smoky lake 468\n",
      "city: nabire 469\n",
      "city: saint-augustin 470\n",
      "not found dalinghe\n",
      "city: viedma 471\n",
      "city: payette 472\n",
      "city: salym 473\n",
      "city: aloleng 474\n",
      "city: almaznyy 475\n",
      "not found karamea\n",
      "city: gramado 476\n",
      "city: colac 477\n",
      "city: oum hadjer 478\n",
      "city: honavar 479\n",
      "city: howard springs 480\n",
      "city: kruisfontein 481\n",
      "city: urengoy 482\n",
      "city: araouane 483\n",
      "city: resistencia 484\n",
      "city: vysotsk 485\n",
      "city: kisesa 486\n",
      "city: lompoc 487\n",
      "city: san cristobal 488\n",
      "city: mareeba 489\n",
      "not found palabuhanratu\n",
      "city: vanimo 490\n",
      "city: karpogory 491\n",
      "not found toliary\n",
      "city: elat 492\n",
      "city: billings 493\n",
      "city: ust-tsilma 494\n",
      "city: kontagora 495\n",
      "city: puerto suarez 496\n",
      "city: comodoro rivadavia 497\n",
      "not found ngukurr\n",
      "city: nipawin 498\n",
      "not found naugarzan\n",
      "city: isangel 499\n",
      "city: caravelas 500\n",
      "city: rurrenabaque 501\n",
      "city: tecoanapa 502\n",
      "city: westport 503\n",
      "city: linares 504\n",
      "city: apartado 505\n",
      "city: raga 506\n",
      "city: tautira 507\n",
      "city: kita 508\n",
      "city: astana 509\n",
      "city: garoua 510\n",
      "city: claveria 511\n",
      "city: ambulu 512\n",
      "city: mahibadhoo 513\n",
      "city: sturgis 514\n",
      "city: acarau 515\n",
      "city: mehamn 516\n",
      "city: hammerfest 517\n",
      "city: vyshhorod 518\n",
      "city: yaan 519\n",
      "city: kongolo 520\n",
      "city: chichihualco 521\n",
      "city: pueblo 522\n",
      "city: pundaguitan 523\n",
      "city: dolinsk 524\n",
      "city: martapura 525\n",
      "city: seoul 526\n",
      "city: new plymouth 527\n",
      "city: guaraniacu 528\n",
      "city: aripuana 529\n",
      "city: lac-au-saumon 530\n",
      "city: bautista 531\n",
      "city: debre tabor 532\n",
      "city: marawi 533\n",
      "not found tome-acu\n",
      "city: agadez 534\n",
      "city: pangkalanbuun 535\n",
      "city: bardiyah 536\n",
      "not found barbar\n",
      "city: bahia de caraquez 537\n",
      "city: erenhot 538\n",
      "city: ternate 539\n",
      "city: dothan 540\n",
      "city: zhanaozen 541\n",
      "city: meulaboh 542\n",
      "city: ban phai 543\n",
      "city: la carolina 544\n",
      "city: kakogawa 545\n",
      "city: lazaro cardenas 546\n",
      "city: sokoni 547\n",
      "city: homer 548\n",
      "not found falaleu\n",
      "city: les cayes 549\n",
      "city: nianzishan 550\n",
      "city: cap malheureux 551\n",
      "city: sao miguel do iguacu 552\n",
      "city: lakes entrance 553\n",
      "city: salinopolis 554\n",
      "not found viligili\n",
      "city: bumba 555\n",
      "city: voyvozh 556\n",
      "city: yefremov 557\n",
      "city: daura 558\n",
      "city: ocara 559\n",
      "not found barawe\n",
      "city: gejiu 560\n",
      "not found jiroft\n",
      "city: hami 561\n",
      "city: wuwei 562\n"
     ]
    }
   ],
   "source": [
    "\n",
    "url = \"http://api.openweathermap.org/data/2.5/weather?\"\n",
    "#units = \"imperial\"\n",
    "# query_url = f\"{url}appid={weather_api_key }&q={city}&units={units}\"\n",
    "# #\n",
    "# # Get weather data\n",
    "# weather_response = requests.get(query_url)\n",
    "#weather_json = weather_response.json()\n",
    "\n",
    "# print(weather_json)\n",
    "\n",
    "lat = []\n",
    "lon = []\n",
    "temperatures = []\n",
    "wind_speed = []\n",
    "clouds = []\n",
    "humidity = []\n",
    "country = []\n",
    "date = []\n",
    "cities_found = []\n",
    "\n",
    "city_count = 0\n",
    "\n",
    "for city in cities:\n",
    "     \n",
    "   \n",
    "    query_url = url + \"appid=\" + weather_api_key + \"&q=\" + city + \"&units=imperial\"\n",
    "\n",
    "    try:\n",
    "        weather_response = requests.get(query_url)\n",
    "        weather_json = weather_response.json()\n",
    "\n",
    "    \n",
    "        lon.append(weather_json[\"coord\"][\"lon\"])\n",
    "        lat.append(weather_json[\"coord\"][\"lat\"])\n",
    "        \n",
    "        temperatures.append(weather_json[\"main\"][\"temp\"])\n",
    "        wind_speed.append(weather_json[\"wind\"][\"speed\"])\n",
    "        clouds.append(weather_json[\"clouds\"][\"all\"])\n",
    "        humidity.append(weather_json[\"main\"][\"humidity\"])\n",
    "        country.append(weather_json[\"sys\"][\"country\"])\n",
    "        date.append(weather_json[\"dt\"])\n",
    "        cities_found.append(city)\n",
    "        \n",
    "        city_count = city_count + 1\n",
    "        print(\"city: \" + city + \" \" + str(city_count) )\n",
    "    except:\n",
    "        print(\"not found \" + city)\n",
    "    \n",
    "    \n"
   ]
  },
  {
   "cell_type": "code",
   "execution_count": 6,
   "metadata": {},
   "outputs": [
    {
     "data": {
      "text/html": [
       "<div>\n",
       "<style scoped>\n",
       "    .dataframe tbody tr th:only-of-type {\n",
       "        vertical-align: middle;\n",
       "    }\n",
       "\n",
       "    .dataframe tbody tr th {\n",
       "        vertical-align: top;\n",
       "    }\n",
       "\n",
       "    .dataframe thead th {\n",
       "        text-align: right;\n",
       "    }\n",
       "</style>\n",
       "<table border=\"1\" class=\"dataframe\">\n",
       "  <thead>\n",
       "    <tr style=\"text-align: right;\">\n",
       "      <th></th>\n",
       "      <th>City Name</th>\n",
       "      <th>Latitude</th>\n",
       "      <th>Longitude</th>\n",
       "      <th>Temperature</th>\n",
       "      <th>Wind Speed</th>\n",
       "      <th>Cloudiness</th>\n",
       "      <th>Humidity</th>\n",
       "      <th>Country</th>\n",
       "      <th>Date</th>\n",
       "    </tr>\n",
       "  </thead>\n",
       "  <tbody>\n",
       "    <tr>\n",
       "      <th>0</th>\n",
       "      <td>ponta do sol</td>\n",
       "      <td>32.6667</td>\n",
       "      <td>-17.1000</td>\n",
       "      <td>61.43</td>\n",
       "      <td>11.05</td>\n",
       "      <td>32</td>\n",
       "      <td>81</td>\n",
       "      <td>PT</td>\n",
       "      <td>1650919384</td>\n",
       "    </tr>\n",
       "    <tr>\n",
       "      <th>1</th>\n",
       "      <td>nova prata</td>\n",
       "      <td>-28.7839</td>\n",
       "      <td>-51.6100</td>\n",
       "      <td>76.59</td>\n",
       "      <td>2.93</td>\n",
       "      <td>93</td>\n",
       "      <td>83</td>\n",
       "      <td>BR</td>\n",
       "      <td>1650919384</td>\n",
       "    </tr>\n",
       "    <tr>\n",
       "      <th>2</th>\n",
       "      <td>verkhnedneprovskiy</td>\n",
       "      <td>54.9813</td>\n",
       "      <td>33.3457</td>\n",
       "      <td>45.50</td>\n",
       "      <td>3.91</td>\n",
       "      <td>99</td>\n",
       "      <td>93</td>\n",
       "      <td>RU</td>\n",
       "      <td>1650919384</td>\n",
       "    </tr>\n",
       "    <tr>\n",
       "      <th>3</th>\n",
       "      <td>bambous virieux</td>\n",
       "      <td>-20.3428</td>\n",
       "      <td>57.7575</td>\n",
       "      <td>73.65</td>\n",
       "      <td>12.66</td>\n",
       "      <td>40</td>\n",
       "      <td>88</td>\n",
       "      <td>MU</td>\n",
       "      <td>1650919385</td>\n",
       "    </tr>\n",
       "    <tr>\n",
       "      <th>4</th>\n",
       "      <td>hithadhoo</td>\n",
       "      <td>-0.6000</td>\n",
       "      <td>73.0833</td>\n",
       "      <td>83.52</td>\n",
       "      <td>6.89</td>\n",
       "      <td>80</td>\n",
       "      <td>74</td>\n",
       "      <td>MV</td>\n",
       "      <td>1650919385</td>\n",
       "    </tr>\n",
       "    <tr>\n",
       "      <th>...</th>\n",
       "      <td>...</td>\n",
       "      <td>...</td>\n",
       "      <td>...</td>\n",
       "      <td>...</td>\n",
       "      <td>...</td>\n",
       "      <td>...</td>\n",
       "      <td>...</td>\n",
       "      <td>...</td>\n",
       "      <td>...</td>\n",
       "    </tr>\n",
       "    <tr>\n",
       "      <th>557</th>\n",
       "      <td>daura</td>\n",
       "      <td>11.5538</td>\n",
       "      <td>11.4085</td>\n",
       "      <td>91.38</td>\n",
       "      <td>11.21</td>\n",
       "      <td>33</td>\n",
       "      <td>33</td>\n",
       "      <td>NG</td>\n",
       "      <td>1650919612</td>\n",
       "    </tr>\n",
       "    <tr>\n",
       "      <th>558</th>\n",
       "      <td>ocara</td>\n",
       "      <td>-4.4908</td>\n",
       "      <td>-38.5967</td>\n",
       "      <td>76.32</td>\n",
       "      <td>3.56</td>\n",
       "      <td>66</td>\n",
       "      <td>85</td>\n",
       "      <td>BR</td>\n",
       "      <td>1650919612</td>\n",
       "    </tr>\n",
       "    <tr>\n",
       "      <th>559</th>\n",
       "      <td>gejiu</td>\n",
       "      <td>23.3060</td>\n",
       "      <td>103.1635</td>\n",
       "      <td>56.07</td>\n",
       "      <td>1.57</td>\n",
       "      <td>0</td>\n",
       "      <td>57</td>\n",
       "      <td>CN</td>\n",
       "      <td>1650919613</td>\n",
       "    </tr>\n",
       "    <tr>\n",
       "      <th>560</th>\n",
       "      <td>hami</td>\n",
       "      <td>42.8000</td>\n",
       "      <td>93.4500</td>\n",
       "      <td>61.21</td>\n",
       "      <td>24.54</td>\n",
       "      <td>98</td>\n",
       "      <td>25</td>\n",
       "      <td>CN</td>\n",
       "      <td>1650919613</td>\n",
       "    </tr>\n",
       "    <tr>\n",
       "      <th>561</th>\n",
       "      <td>wuwei</td>\n",
       "      <td>37.9281</td>\n",
       "      <td>102.6414</td>\n",
       "      <td>53.87</td>\n",
       "      <td>1.86</td>\n",
       "      <td>0</td>\n",
       "      <td>32</td>\n",
       "      <td>CN</td>\n",
       "      <td>1650919614</td>\n",
       "    </tr>\n",
       "  </tbody>\n",
       "</table>\n",
       "<p>562 rows × 9 columns</p>\n",
       "</div>"
      ],
      "text/plain": [
       "              City Name  Latitude  Longitude  Temperature  Wind Speed  \\\n",
       "0          ponta do sol   32.6667   -17.1000        61.43       11.05   \n",
       "1            nova prata  -28.7839   -51.6100        76.59        2.93   \n",
       "2    verkhnedneprovskiy   54.9813    33.3457        45.50        3.91   \n",
       "3       bambous virieux  -20.3428    57.7575        73.65       12.66   \n",
       "4             hithadhoo   -0.6000    73.0833        83.52        6.89   \n",
       "..                  ...       ...        ...          ...         ...   \n",
       "557               daura   11.5538    11.4085        91.38       11.21   \n",
       "558               ocara   -4.4908   -38.5967        76.32        3.56   \n",
       "559               gejiu   23.3060   103.1635        56.07        1.57   \n",
       "560                hami   42.8000    93.4500        61.21       24.54   \n",
       "561               wuwei   37.9281   102.6414        53.87        1.86   \n",
       "\n",
       "     Cloudiness  Humidity Country        Date  \n",
       "0            32        81      PT  1650919384  \n",
       "1            93        83      BR  1650919384  \n",
       "2            99        93      RU  1650919384  \n",
       "3            40        88      MU  1650919385  \n",
       "4            80        74      MV  1650919385  \n",
       "..          ...       ...     ...         ...  \n",
       "557          33        33      NG  1650919612  \n",
       "558          66        85      BR  1650919612  \n",
       "559           0        57      CN  1650919613  \n",
       "560          98        25      CN  1650919613  \n",
       "561           0        32      CN  1650919614  \n",
       "\n",
       "[562 rows x 9 columns]"
      ]
     },
     "execution_count": 6,
     "metadata": {},
     "output_type": "execute_result"
    }
   ],
   "source": [
    "city_df = pd.DataFrame({\n",
    "                        \"City Name\": cities_found,\n",
    "                        \"Latitude\": lat,\n",
    "                        \"Longitude\": lon,\n",
    "                        \"Temperature\": temperatures,  \n",
    "                        \"Wind Speed\": wind_speed,\n",
    "                        \"Cloudiness\": clouds,\n",
    "                        \"Humidity\": humidity,\n",
    "                        \"Country\": country,\n",
    "    \n",
    "                        \"Date\": date\n",
    "                        \n",
    "                        \n",
    "                        })    \n",
    "\n",
    "\n",
    "    \n",
    "city_df\n"
   ]
  },
  {
   "cell_type": "markdown",
   "metadata": {},
   "source": [
    "### Convert Raw Data to DataFrame\n",
    "* Export the city data into a .csv.\n",
    "* Display the DataFrame"
   ]
  },
  {
   "cell_type": "code",
   "execution_count": 7,
   "metadata": {},
   "outputs": [],
   "source": [
    "# city_data_to_load = \"cities.csv\"\n",
    "\n",
    "# city_data = pd.read_csv(city_data_to_load)\n"
   ]
  },
  {
   "cell_type": "code",
   "execution_count": 8,
   "metadata": {},
   "outputs": [],
   "source": [
    "city_df.to_csv(r'City.csv', index = False)\n",
    "\n",
    "\n",
    "\n",
    "\n"
   ]
  },
  {
   "cell_type": "markdown",
   "metadata": {},
   "source": [
    "## Inspect the data and remove the cities where the humidity > 100%.\n",
    "----\n",
    "Skip this step if there are no cities that have humidity > 100%. "
   ]
  },
  {
   "cell_type": "code",
   "execution_count": 9,
   "metadata": {},
   "outputs": [
    {
     "data": {
      "text/plain": [
       "0"
      ]
     },
     "execution_count": 9,
     "metadata": {},
     "output_type": "execute_result"
    }
   ],
   "source": [
    "humidity_count = city_df.loc[city_df[\"Humidity\"]> 100]\n",
    "    \n",
    "(len(humidity_count))    "
   ]
  },
  {
   "cell_type": "code",
   "execution_count": 10,
   "metadata": {},
   "outputs": [],
   "source": [
    "#  Get the indices of cities that have humidity over 100%.\n",
    "# THERE AREN\"T ANY\n"
   ]
  },
  {
   "cell_type": "code",
   "execution_count": 11,
   "metadata": {},
   "outputs": [],
   "source": [
    "# Make a new DataFrame equal to the city data to drop all humidity outliers by index.\n",
    "# Passing \"inplace=False\" will make a copy of the city_data DataFrame, which we call \"clean_city_data\".\n"
   ]
  },
  {
   "cell_type": "code",
   "execution_count": 12,
   "metadata": {},
   "outputs": [
    {
     "data": {
      "text/html": [
       "<div>\n",
       "<style scoped>\n",
       "    .dataframe tbody tr th:only-of-type {\n",
       "        vertical-align: middle;\n",
       "    }\n",
       "\n",
       "    .dataframe tbody tr th {\n",
       "        vertical-align: top;\n",
       "    }\n",
       "\n",
       "    .dataframe thead th {\n",
       "        text-align: right;\n",
       "    }\n",
       "</style>\n",
       "<table border=\"1\" class=\"dataframe\">\n",
       "  <thead>\n",
       "    <tr style=\"text-align: right;\">\n",
       "      <th></th>\n",
       "      <th>City Name</th>\n",
       "      <th>Latitude</th>\n",
       "      <th>Longitude</th>\n",
       "      <th>Temperature</th>\n",
       "      <th>Wind Speed</th>\n",
       "      <th>Cloudiness</th>\n",
       "      <th>Humidity</th>\n",
       "      <th>Country</th>\n",
       "      <th>Date</th>\n",
       "    </tr>\n",
       "  </thead>\n",
       "  <tbody>\n",
       "    <tr>\n",
       "      <th>0</th>\n",
       "      <td>ponta do sol</td>\n",
       "      <td>32.6667</td>\n",
       "      <td>-17.1000</td>\n",
       "      <td>61.43</td>\n",
       "      <td>11.05</td>\n",
       "      <td>32</td>\n",
       "      <td>81</td>\n",
       "      <td>PT</td>\n",
       "      <td>1650919384</td>\n",
       "    </tr>\n",
       "    <tr>\n",
       "      <th>1</th>\n",
       "      <td>nova prata</td>\n",
       "      <td>-28.7839</td>\n",
       "      <td>-51.6100</td>\n",
       "      <td>76.59</td>\n",
       "      <td>2.93</td>\n",
       "      <td>93</td>\n",
       "      <td>83</td>\n",
       "      <td>BR</td>\n",
       "      <td>1650919384</td>\n",
       "    </tr>\n",
       "    <tr>\n",
       "      <th>2</th>\n",
       "      <td>verkhnedneprovskiy</td>\n",
       "      <td>54.9813</td>\n",
       "      <td>33.3457</td>\n",
       "      <td>45.50</td>\n",
       "      <td>3.91</td>\n",
       "      <td>99</td>\n",
       "      <td>93</td>\n",
       "      <td>RU</td>\n",
       "      <td>1650919384</td>\n",
       "    </tr>\n",
       "    <tr>\n",
       "      <th>3</th>\n",
       "      <td>bambous virieux</td>\n",
       "      <td>-20.3428</td>\n",
       "      <td>57.7575</td>\n",
       "      <td>73.65</td>\n",
       "      <td>12.66</td>\n",
       "      <td>40</td>\n",
       "      <td>88</td>\n",
       "      <td>MU</td>\n",
       "      <td>1650919385</td>\n",
       "    </tr>\n",
       "    <tr>\n",
       "      <th>4</th>\n",
       "      <td>hithadhoo</td>\n",
       "      <td>-0.6000</td>\n",
       "      <td>73.0833</td>\n",
       "      <td>83.52</td>\n",
       "      <td>6.89</td>\n",
       "      <td>80</td>\n",
       "      <td>74</td>\n",
       "      <td>MV</td>\n",
       "      <td>1650919385</td>\n",
       "    </tr>\n",
       "    <tr>\n",
       "      <th>...</th>\n",
       "      <td>...</td>\n",
       "      <td>...</td>\n",
       "      <td>...</td>\n",
       "      <td>...</td>\n",
       "      <td>...</td>\n",
       "      <td>...</td>\n",
       "      <td>...</td>\n",
       "      <td>...</td>\n",
       "      <td>...</td>\n",
       "    </tr>\n",
       "    <tr>\n",
       "      <th>557</th>\n",
       "      <td>daura</td>\n",
       "      <td>11.5538</td>\n",
       "      <td>11.4085</td>\n",
       "      <td>91.38</td>\n",
       "      <td>11.21</td>\n",
       "      <td>33</td>\n",
       "      <td>33</td>\n",
       "      <td>NG</td>\n",
       "      <td>1650919612</td>\n",
       "    </tr>\n",
       "    <tr>\n",
       "      <th>558</th>\n",
       "      <td>ocara</td>\n",
       "      <td>-4.4908</td>\n",
       "      <td>-38.5967</td>\n",
       "      <td>76.32</td>\n",
       "      <td>3.56</td>\n",
       "      <td>66</td>\n",
       "      <td>85</td>\n",
       "      <td>BR</td>\n",
       "      <td>1650919612</td>\n",
       "    </tr>\n",
       "    <tr>\n",
       "      <th>559</th>\n",
       "      <td>gejiu</td>\n",
       "      <td>23.3060</td>\n",
       "      <td>103.1635</td>\n",
       "      <td>56.07</td>\n",
       "      <td>1.57</td>\n",
       "      <td>0</td>\n",
       "      <td>57</td>\n",
       "      <td>CN</td>\n",
       "      <td>1650919613</td>\n",
       "    </tr>\n",
       "    <tr>\n",
       "      <th>560</th>\n",
       "      <td>hami</td>\n",
       "      <td>42.8000</td>\n",
       "      <td>93.4500</td>\n",
       "      <td>61.21</td>\n",
       "      <td>24.54</td>\n",
       "      <td>98</td>\n",
       "      <td>25</td>\n",
       "      <td>CN</td>\n",
       "      <td>1650919613</td>\n",
       "    </tr>\n",
       "    <tr>\n",
       "      <th>561</th>\n",
       "      <td>wuwei</td>\n",
       "      <td>37.9281</td>\n",
       "      <td>102.6414</td>\n",
       "      <td>53.87</td>\n",
       "      <td>1.86</td>\n",
       "      <td>0</td>\n",
       "      <td>32</td>\n",
       "      <td>CN</td>\n",
       "      <td>1650919614</td>\n",
       "    </tr>\n",
       "  </tbody>\n",
       "</table>\n",
       "<p>562 rows × 9 columns</p>\n",
       "</div>"
      ],
      "text/plain": [
       "              City Name  Latitude  Longitude  Temperature  Wind Speed  \\\n",
       "0          ponta do sol   32.6667   -17.1000        61.43       11.05   \n",
       "1            nova prata  -28.7839   -51.6100        76.59        2.93   \n",
       "2    verkhnedneprovskiy   54.9813    33.3457        45.50        3.91   \n",
       "3       bambous virieux  -20.3428    57.7575        73.65       12.66   \n",
       "4             hithadhoo   -0.6000    73.0833        83.52        6.89   \n",
       "..                  ...       ...        ...          ...         ...   \n",
       "557               daura   11.5538    11.4085        91.38       11.21   \n",
       "558               ocara   -4.4908   -38.5967        76.32        3.56   \n",
       "559               gejiu   23.3060   103.1635        56.07        1.57   \n",
       "560                hami   42.8000    93.4500        61.21       24.54   \n",
       "561               wuwei   37.9281   102.6414        53.87        1.86   \n",
       "\n",
       "     Cloudiness  Humidity Country        Date  \n",
       "0            32        81      PT  1650919384  \n",
       "1            93        83      BR  1650919384  \n",
       "2            99        93      RU  1650919384  \n",
       "3            40        88      MU  1650919385  \n",
       "4            80        74      MV  1650919385  \n",
       "..          ...       ...     ...         ...  \n",
       "557          33        33      NG  1650919612  \n",
       "558          66        85      BR  1650919612  \n",
       "559           0        57      CN  1650919613  \n",
       "560          98        25      CN  1650919613  \n",
       "561           0        32      CN  1650919614  \n",
       "\n",
       "[562 rows x 9 columns]"
      ]
     },
     "execution_count": 12,
     "metadata": {},
     "output_type": "execute_result"
    }
   ],
   "source": [
    "humidity_count = city_df.loc[city_df[\"Humidity\"]<= 100]\n",
    "humidity_count"
   ]
  },
  {
   "cell_type": "markdown",
   "metadata": {},
   "source": [
    "## Plotting the Data\n",
    "* Use proper labeling of the plots using plot titles (including date of analysis) and axes labels.\n",
    "* Save the plotted figures as .pngs."
   ]
  },
  {
   "cell_type": "markdown",
   "metadata": {},
   "source": [
    "## Latitude vs. Temperature Plot"
   ]
  },
  {
   "cell_type": "code",
   "execution_count": 13,
   "metadata": {
    "scrolled": true
   },
   "outputs": [
    {
     "data": {
      "image/png": "[encoded data removed]",
      "text/plain": [
       "<Figure size 432x288 with 1 Axes>"
      ]
     },
     "metadata": {
      "needs_background": "light"
     },
     "output_type": "display_data"
    }
   ],
   "source": [
    "                                 \n",
    "plt.scatter(city_df[\"Latitude\"],city_df[\"Temperature\"])  \n",
    "plt.ylabel('Max Temperature (F)')\n",
    "plt.xlabel('Latitude')\n",
    "plt.title('City Latitude vs. Max Temperature')\n",
    "plt.show()"
   ]
  },
  {
   "cell_type": "markdown",
   "metadata": {},
   "source": [
    "## Latitude vs. Humidity Plot"
   ]
  },
  {
   "cell_type": "code",
   "execution_count": 14,
   "metadata": {},
   "outputs": [
    {
     "data": {
      "image/png": "[encoded data removed]",
      "text/plain": [
       "<Figure size 432x288 with 1 Axes>"
      ]
     },
     "metadata": {
      "needs_background": "light"
     },
     "output_type": "display_data"
    }
   ],
   "source": [
    "plt.scatter(city_df[\"Latitude\"],city_df[\"Humidity\"])  \n",
    "plt.ylabel('Humidity (%)')\n",
    "plt.xlabel('Latitude')\n",
    "plt.title('City Latitude vs. Humidity')\n",
    "plt.show()"
   ]
  },
  {
   "cell_type": "markdown",
   "metadata": {},
   "source": [
    "## Latitude vs. Cloudiness Plot"
   ]
  },
  {
   "cell_type": "code",
   "execution_count": 15,
   "metadata": {},
   "outputs": [
    {
     "data": {
      "image/png": "[encoded data removed]",
      "text/plain": [
       "<Figure size 432x288 with 1 Axes>"
      ]
     },
     "metadata": {
      "needs_background": "light"
     },
     "output_type": "display_data"
    }
   ],
   "source": [
    "plt.scatter(city_df[\"Latitude\"],city_df[\"Cloudiness\"])  \n",
    "plt.ylabel('Humidity (%)')\n",
    "plt.xlabel('Latitude')\n",
    "plt.title('City Latitude vs. Humidity')\n",
    "plt.show()"
   ]
  },
  {
   "cell_type": "markdown",
   "metadata": {},
   "source": [
    "## Latitude vs. Wind Speed Plot"
   ]
  },
  {
   "cell_type": "code",
   "execution_count": 16,
   "metadata": {},
   "outputs": [
    {
     "data": {
      "image/png": "[encoded data removed]",
      "text/plain": [
       "<Figure size 432x288 with 1 Axes>"
      ]
     },
     "metadata": {
      "needs_background": "light"
     },
     "output_type": "display_data"
    }
   ],
   "source": [
    "plt.scatter(city_df[\"Latitude\"],city_df[\"Wind Speed\"])  \n",
    "plt.ylabel('Wind Speed')\n",
    "plt.xlabel('Latitude')\n",
    "plt.title('City Latitude vs.')\n",
    "plt.show()"
   ]
  },
  {
   "cell_type": "markdown",
   "metadata": {},
   "source": [
    "## Linear Regression"
   ]
  },
  {
   "cell_type": "code",
   "execution_count": 17,
   "metadata": {},
   "outputs": [],
   "source": [
    "northern_hemisphere_df = city_df.loc[city_df[\"Latitude\"] >= 0]\n",
    "southern_hemisphere_df = city_df.loc[city_df[\"Latitude\"] <= 0]\n",
    "\n",
    "\n"
   ]
  },
  {
   "cell_type": "markdown",
   "metadata": {},
   "source": [
    "####  Northern Hemisphere - Max Temp vs. Latitude Linear Regression"
   ]
  },
  {
   "cell_type": "code",
   "execution_count": 18,
   "metadata": {},
   "outputs": [
    {
     "name": "stdout",
     "output_type": "stream",
     "text": [
      "The correlation between weight and average tumor volume\n",
      "is -0.88.\n"
     ]
    },
    {
     "data": {
      "image/png": "[encoded data removed]",
      "text/plain": [
       "<Figure size 432x288 with 1 Axes>"
      ]
     },
     "metadata": {
      "needs_background": "light"
     },
     "output_type": "display_data"
    }
   ],
   "source": [
    "x = northern_hemisphere_df['Temperature']\n",
    "y = northern_hemisphere_df['Latitude']\n",
    "\n",
    "\n",
    "correlation = st.pearsonr(x,y)\n",
    "\n",
    "print(f\"\"\"The correlation between weight and average tumor volume\n",
    "is {round(correlation[0],2)}.\"\"\")\n",
    "\n",
    "\n",
    "(slope, intercept, rvalue, pvalue, stderr) = linregress(x, y)\n",
    "regress_values = x * slope + intercept\n",
    "line_eq = \"y = \" + str(round(slope,2)) + \"x + \" + str(round(intercept,2))\n",
    "plt.scatter(x,y)\n",
    "plt.plot(x,regress_values,\"r-\")\n",
    "\n",
    "plt.annotate(line_eq,(18,32),fontsize=15,color=\"red\")\n",
    "\n",
    "plt.xlabel('Weight (g)')\n",
    "plt.ylabel('Tumor Volume (mm3)')\n",
    "\n",
    "plt.show()"
   ]
  },
  {
   "cell_type": "markdown",
   "metadata": {},
   "source": [
    "####  Southern Hemisphere - Max Temp vs. Latitude Linear Regression"
   ]
  },
  {
   "cell_type": "code",
   "execution_count": 19,
   "metadata": {},
   "outputs": [
    {
     "name": "stdout",
     "output_type": "stream",
     "text": [
      "The correlation between weight and average tumor volume\n",
      "is 0.75.\n"
     ]
    },
    {
     "data": {
      "image/png": "[encoded data removed]",
      "text/plain": [
       "<Figure size 432x288 with 1 Axes>"
      ]
     },
     "metadata": {
      "needs_background": "light"
     },
     "output_type": "display_data"
    }
   ],
   "source": [
    "x = southern_hemisphere_df ['Temperature']\n",
    "y = southern_hemisphere_df ['Latitude']\n",
    "\n",
    "\n",
    "correlation = st.pearsonr(x,y)\n",
    "\n",
    "print(f\"\"\"The correlation between weight and average tumor volume\n",
    "is {round(correlation[0],2)}.\"\"\")\n",
    "\n",
    "\n",
    "(slope, intercept, rvalue, pvalue, stderr) = linregress(x, y)\n",
    "regress_values = x * slope + intercept\n",
    "line_eq = \"y = \" + str(round(slope,2)) + \"x + \" + str(round(intercept,2))\n",
    "plt.scatter(x,y)\n",
    "plt.plot(x,regress_values,\"r-\")\n",
    "\n",
    "plt.annotate(line_eq,(18,32),fontsize=15,color=\"red\")\n",
    "\n",
    "plt.xlabel('Weight (g)')\n",
    "plt.ylabel('Tumor Volume (mm3)')\n",
    "\n",
    "plt.show()"
   ]
  },
  {
   "cell_type": "markdown",
   "metadata": {},
   "source": [
    "####  Northern Hemisphere - Humidity (%) vs. Latitude Linear Regression"
   ]
  },
  {
   "cell_type": "code",
   "execution_count": 20,
   "metadata": {},
   "outputs": [
    {
     "name": "stdout",
     "output_type": "stream",
     "text": [
      "The correlation between weight and average tumor volume\n",
      "is 0.25.\n"
     ]
    },
    {
     "data": {
      "image/png": "[encoded data removed]",
      "text/plain": [
       "<Figure size 432x288 with 1 Axes>"
      ]
     },
     "metadata": {
      "needs_background": "light"
     },
     "output_type": "display_data"
    }
   ],
   "source": [
    "x = northern_hemisphere_df ['Humidity']\n",
    "y = northern_hemisphere_df ['Latitude']\n",
    "\n",
    "\n",
    "correlation = st.pearsonr(x,y)\n",
    "\n",
    "print(f\"\"\"The correlation between weight and average tumor volume\n",
    "is {round(correlation[0],2)}.\"\"\")\n",
    "\n",
    "\n",
    "(slope, intercept, rvalue, pvalue, stderr) = linregress(x, y)\n",
    "regress_values = x * slope + intercept\n",
    "line_eq = \"y = \" + str(round(slope,2)) + \"x + \" + str(round(intercept,2))\n",
    "plt.scatter(x,y)\n",
    "plt.plot(x,regress_values,\"r-\")\n",
    "\n",
    "plt.annotate(line_eq,(18,32),fontsize=15,color=\"red\")\n",
    "\n",
    "plt.xlabel('Weight (g)')\n",
    "plt.ylabel('Tumor Volume (mm3)')\n",
    "\n",
    "plt.show()"
   ]
  },
  {
   "cell_type": "markdown",
   "metadata": {},
   "source": [
    "####  Southern Hemisphere - Humidity (%) vs. Latitude Linear Regression"
   ]
  },
  {
   "cell_type": "code",
   "execution_count": 21,
   "metadata": {},
   "outputs": [
    {
     "name": "stdout",
     "output_type": "stream",
     "text": [
      "The correlation between weight and average tumor volume\n",
      "is 0.2.\n"
     ]
    },
    {
     "data": {
      "image/png": "[encoded data removed]",
      "text/plain": [
       "<Figure size 432x288 with 1 Axes>"
      ]
     },
     "metadata": {
      "needs_background": "light"
     },
     "output_type": "display_data"
    }
   ],
   "source": [
    "x = southern_hemisphere_df ['Humidity']\n",
    "y = southern_hemisphere_df ['Latitude']\n",
    "\n",
    "\n",
    "correlation = st.pearsonr(x,y)\n",
    "\n",
    "print(f\"\"\"The correlation between weight and average tumor volume\n",
    "is {round(correlation[0],2)}.\"\"\")\n",
    "\n",
    "\n",
    "(slope, intercept, rvalue, pvalue, stderr) = linregress(x, y)\n",
    "regress_values = x * slope + intercept\n",
    "line_eq = \"y = \" + str(round(slope,2)) + \"x + \" + str(round(intercept,2))\n",
    "plt.scatter(x,y)\n",
    "plt.plot(x,regress_values,\"r-\")\n",
    "\n",
    "plt.annotate(line_eq,(18,32),fontsize=15,color=\"red\")\n",
    "\n",
    "plt.xlabel('Weight (g)')\n",
    "plt.ylabel('Tumor Volume (mm3)')\n",
    "\n",
    "plt.show()"
   ]
  },
  {
   "cell_type": "markdown",
   "metadata": {},
   "source": [
    "####  Northern Hemisphere - Cloudiness (%) vs. Latitude Linear Regression"
   ]
  },
  {
   "cell_type": "code",
   "execution_count": 22,
   "metadata": {},
   "outputs": [
    {
     "name": "stdout",
     "output_type": "stream",
     "text": [
      "The correlation between weight and average tumor volume\n",
      "is 0.25.\n"
     ]
    },
    {
     "data": {
      "image/png": "[encoded data removed]",
      "text/plain": [
       "<Figure size 432x288 with 1 Axes>"
      ]
     },
     "metadata": {
      "needs_background": "light"
     },
     "output_type": "display_data"
    }
   ],
   "source": [
    "x = northern_hemisphere_df ['Cloudiness']\n",
    "y = northern_hemisphere_df ['Latitude']\n",
    "\n",
    "\n",
    "correlation = st.pearsonr(x,y)\n",
    "\n",
    "print(f\"\"\"The correlation between weight and average tumor volume\n",
    "is {round(correlation[0],2)}.\"\"\")\n",
    "\n",
    "\n",
    "(slope, intercept, rvalue, pvalue, stderr) = linregress(x, y)\n",
    "regress_values = x * slope + intercept\n",
    "line_eq = \"y = \" + str(round(slope,2)) + \"x + \" + str(round(intercept,2))\n",
    "plt.scatter(x,y)\n",
    "plt.plot(x,regress_values,\"r-\")\n",
    "\n",
    "plt.annotate(line_eq,(18,32),fontsize=15,color=\"red\")\n",
    "\n",
    "plt.xlabel('Weight (g)')\n",
    "plt.ylabel('Tumor Volume (mm3)')\n",
    "\n",
    "plt.show()"
   ]
  },
  {
   "cell_type": "markdown",
   "metadata": {},
   "source": [
    "####  Southern Hemisphere - Cloudiness (%) vs. Latitude Linear Regression"
   ]
  },
  {
   "cell_type": "code",
   "execution_count": 23,
   "metadata": {},
   "outputs": [
    {
     "name": "stdout",
     "output_type": "stream",
     "text": [
      "The correlation between weight and average tumor volume\n",
      "is 0.12.\n"
     ]
    },
    {
     "data": {
      "image/png": "[encoded data removed]",
      "text/plain": [
       "<Figure size 432x288 with 1 Axes>"
      ]
     },
     "metadata": {
      "needs_background": "light"
     },
     "output_type": "display_data"
    }
   ],
   "source": [
    "x = southern_hemisphere_df ['Cloudiness']\n",
    "y = southern_hemisphere_df ['Latitude']\n",
    "\n",
    "\n",
    "correlation = st.pearsonr(x,y)\n",
    "\n",
    "print(f\"\"\"The correlation between weight and average tumor volume\n",
    "is {round(correlation[0],2)}.\"\"\")\n",
    "\n",
    "\n",
    "(slope, intercept, rvalue, pvalue, stderr) = linregress(x, y)\n",
    "regress_values = x * slope + intercept\n",
    "line_eq = \"y = \" + str(round(slope,2)) + \"x + \" + str(round(intercept,2))\n",
    "plt.scatter(x,y)\n",
    "plt.plot(x,regress_values,\"r-\")\n",
    "\n",
    "plt.annotate(line_eq,(18,32),fontsize=15,color=\"red\")\n",
    "\n",
    "plt.xlabel('Weight (g)')\n",
    "plt.ylabel('Tumor Volume (mm3)')\n",
    "\n",
    "plt.show()"
   ]
  },
  {
   "cell_type": "markdown",
   "metadata": {},
   "source": [
    "####  Northern Hemisphere - Wind Speed (mph) vs. Latitude Linear Regression"
   ]
  },
  {
   "cell_type": "code",
   "execution_count": 24,
   "metadata": {},
   "outputs": [
    {
     "name": "stdout",
     "output_type": "stream",
     "text": [
      "The correlation between weight and average tumor volume\n",
      "is 0.09.\n"
     ]
    },
    {
     "data": {
      "image/png": "[encoded data removed]",
      "text/plain": [
       "<Figure size 432x288 with 1 Axes>"
      ]
     },
     "metadata": {
      "needs_background": "light"
     },
     "output_type": "display_data"
    }
   ],
   "source": [
    "x = northern_hemisphere_df ['Wind Speed']\n",
    "y = northern_hemisphere_df ['Latitude']\n",
    "\n",
    "\n",
    "correlation = st.pearsonr(x,y)\n",
    "\n",
    "print(f\"\"\"The correlation between weight and average tumor volume\n",
    "is {round(correlation[0],2)}.\"\"\")\n",
    "\n",
    "\n",
    "(slope, intercept, rvalue, pvalue, stderr) = linregress(x, y)\n",
    "regress_values = x * slope + intercept\n",
    "line_eq = \"y = \" + str(round(slope,2)) + \"x + \" + str(round(intercept,2))\n",
    "plt.scatter(x,y)\n",
    "plt.plot(x,regress_values,\"r-\")\n",
    "\n",
    "plt.annotate(line_eq,(18,32),fontsize=15,color=\"red\")\n",
    "\n",
    "plt.xlabel('Weight (g)')\n",
    "plt.ylabel('Tumor Volume (mm3)')\n",
    "\n",
    "plt.show()"
   ]
  },
  {
   "cell_type": "markdown",
   "metadata": {},
   "source": [
    "####  Southern Hemisphere - Wind Speed (mph) vs. Latitude Linear Regression"
   ]
  },
  {
   "cell_type": "code",
   "execution_count": 25,
   "metadata": {},
   "outputs": [
    {
     "name": "stdout",
     "output_type": "stream",
     "text": [
      "The correlation between weight and average tumor volume\n",
      "is -0.25.\n"
     ]
    },
    {
     "data": {
      "image/png": "[encoded data removed]",
      "text/plain": [
       "<Figure size 432x288 with 1 Axes>"
      ]
     },
     "metadata": {
      "needs_background": "light"
     },
     "output_type": "display_data"
    }
   ],
   "source": [
    "x = southern_hemisphere_df ['Wind Speed']\n",
    "y = southern_hemisphere_df ['Latitude']\n",
    "\n",
    "\n",
    "correlation = st.pearsonr(x,y)\n",
    "\n",
    "print(f\"\"\"The correlation between weight and average tumor volume\n",
    "is {round(correlation[0],2)}.\"\"\")\n",
    "\n",
    "\n",
    "(slope, intercept, rvalue, pvalue, stderr) = linregress(x, y)\n",
    "regress_values = x * slope + intercept\n",
    "line_eq = \"y = \" + str(round(slope,2)) + \"x + \" + str(round(intercept,2))\n",
    "plt.scatter(x,y)\n",
    "plt.plot(x,regress_values,\"r-\")\n",
    "\n",
    "plt.annotate(line_eq,(18,32),fontsize=15,color=\"red\")\n",
    "\n",
    "plt.xlabel('Weight (g)')\n",
    "plt.ylabel('Tumor Volume (mm3)')\n",
    "\n",
    "plt.show()"
   ]
  },
  {
   "cell_type": "code",
   "execution_count": null,
   "metadata": {},
   "outputs": [],
   "source": []
  },
  {
   "cell_type": "code",
   "execution_count": null,
   "metadata": {},
   "outputs": [],
   "source": []
  }
 ],
 "metadata": {
  "anaconda-cloud": {},
  "kernel_info": {
   "name": "python3"
  },
  "kernelspec": {
   "display_name": "Python 3 (ipykernel)",
   "language": "python",
   "name": "python3"
  },
  "language_info": {
   "codemirror_mode": {
    "name": "ipython",
    "version": 3
   },
   "file_extension": ".py",
   "mimetype": "text/x-python",
   "name": "python",
   "nbconvert_exporter": "python",
   "pygments_lexer": "ipython3",
   "version": "3.9.7"
  },
  "latex_envs": {
   "LaTeX_envs_menu_present": true,
   "autoclose": false,
   "autocomplete": true,
   "bibliofile": "biblio.bib",
   "cite_by": "apalike",
   "current_citInitial": 1,
   "eqLabelWithNumbers": true,
   "eqNumInitial": 1,
   "hotkeys": {
    "equation": "Ctrl-E",
    "itemize": "Ctrl-I"
   },
   "labels_anchors": false,
   "latex_user_defs": false,
   "report_style_numbering": false,
   "user_envs_cfg": false
  },
  "nteract": {
   "version": "0.12.3"
  }
 },
 "nbformat": 4,
 "nbformat_minor": 2
}
